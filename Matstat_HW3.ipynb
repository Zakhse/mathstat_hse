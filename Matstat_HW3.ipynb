{
 "cells": [
  {
   "cell_type": "markdown",
   "metadata": {
    "deletable": true,
    "editable": true
   },
   "source": [
    "# ДЗ по матстату, задание 3 (вар. 10)"
   ]
  },
  {
   "cell_type": "code",
   "execution_count": 12,
   "metadata": {
    "ExecuteTime": {
     "end_time": "2017-04-12T19:16:48.077590Z",
     "start_time": "2017-04-12T22:16:48.061962+03:00"
    },
    "collapsed": false,
    "deletable": true,
    "editable": true
   },
   "outputs": [
    {
     "data": {
      "text/html": [
       "<script>requirejs.config({paths: { 'plotly': ['https://cdn.plot.ly/plotly-latest.min']},});if(!window.Plotly) {{require(['plotly'],function(plotly) {window.Plotly=plotly;});}}</script>"
      ],
      "text/vnd.plotly.v1+html": [
       "<script>requirejs.config({paths: { 'plotly': ['https://cdn.plot.ly/plotly-latest.min']},});if(!window.Plotly) {{require(['plotly'],function(plotly) {window.Plotly=plotly;});}}</script>"
      ]
     },
     "metadata": {},
     "output_type": "display_data"
    }
   ],
   "source": [
    "%matplotlib inline\n",
    "import scipy.stats as st\n",
    "import numpy as np\n",
    "import matplotlib.pyplot as plt\n",
    "import math\n",
    "\n",
    "\n",
    "from plotly.offline import download_plotlyjs, init_notebook_mode, plot, iplot\n",
    "import plotly.plotly as py\n",
    "import plotly.graph_objs as go\n",
    "\n",
    "init_notebook_mode(connected=True)\n",
    "\n",
    "\n",
    "def draw_plot(sample_1, sample_2):\n",
    "    trace = go.Scatter(x=sample_1, y=sample_2, mode='markers')\n",
    "    data = [trace]\n",
    "    iplot(data)"
   ]
  },
  {
   "cell_type": "code",
   "execution_count": 2,
   "metadata": {
    "ExecuteTime": {
     "end_time": "2017-04-12T19:15:55.099446Z",
     "start_time": "2017-04-12T22:15:55.087295+03:00"
    },
    "collapsed": true,
    "deletable": true,
    "editable": true
   },
   "outputs": [],
   "source": [
    "X_sample = [-0.03,0.65,0.22,-0.35,-0.58,-1.22,0.64,0.42,-1.00,-1.18,-0.90,-0.77,-0.47,0.72,-0.19,0.83,1.16,0.14,-0.27,0.67,0.08,-1.28,-0.62,1.22,0.85,1.81,-1.90,-0.03,-0.57,1.16,-0.98,-0.20,1.79,0.27,1.56,-3.09,-0.33,-1.26,0.19,0.32,-0.37,-0.32,1.32,0.53,0.42,0.83,0.41,-0.61,-0.35,0.27]\n",
    "Y_sample = [1.18,-0.82,1.05,-0.17,-0.40,0.14,-0.60,0.00,-0.73,-0.34,-1.51,-1.04,-0.21,-1.48,0.53,-1.22,-0.21,1.00,0.49,-1.06,0.42,-0.30,-0.25,0.45,-1.07,0.13,0.05,1.35,-0.60,0.12,-0.91,0.82,0.47,0.74,0.86,0.96,0.26,0.05,0.54,0.22,0.42,0.01,0.87,-0.42,0.29,-0.97,-0.23,-1.16,-0.10,-0.05]"
   ]
  },
  {
   "cell_type": "code",
   "execution_count": 3,
   "metadata": {
    "ExecuteTime": {
     "end_time": "2017-04-12T19:15:55.177022Z",
     "start_time": "2017-04-12T22:15:55.115353+03:00"
    },
    "collapsed": false,
    "deletable": true,
    "editable": true
   },
   "outputs": [
    {
     "name": "stdout",
     "output_type": "stream",
     "text": [
      "Size of sample X:  50\n",
      "Size of sample Y:  50\n",
      "Sample X\t|\tSample Y\n",
      "-0.03 \t\t|\t 1.18\n",
      "0.65 \t\t|\t -0.82\n",
      "0.22 \t\t|\t 1.05\n",
      "-0.35 \t\t|\t -0.17\n",
      "-0.58 \t\t|\t -0.4\n",
      "-1.22 \t\t|\t 0.14\n",
      "0.64 \t\t|\t -0.6\n",
      "0.42 \t\t|\t 0.0\n",
      "-1.0 \t\t|\t -0.73\n",
      "-1.18 \t\t|\t -0.34\n",
      "-0.9 \t\t|\t -1.51\n",
      "-0.77 \t\t|\t -1.04\n",
      "-0.47 \t\t|\t -0.21\n",
      "0.72 \t\t|\t -1.48\n",
      "-0.19 \t\t|\t 0.53\n",
      "0.83 \t\t|\t -1.22\n",
      "1.16 \t\t|\t -0.21\n",
      "0.14 \t\t|\t 1.0\n",
      "-0.27 \t\t|\t 0.49\n",
      "0.67 \t\t|\t -1.06\n",
      "0.08 \t\t|\t 0.42\n",
      "-1.28 \t\t|\t -0.3\n",
      "-0.62 \t\t|\t -0.25\n",
      "1.22 \t\t|\t 0.45\n",
      "0.85 \t\t|\t -1.07\n",
      "1.81 \t\t|\t 0.13\n",
      "-1.9 \t\t|\t 0.05\n",
      "-0.03 \t\t|\t 1.35\n",
      "-0.57 \t\t|\t -0.6\n",
      "1.16 \t\t|\t 0.12\n",
      "-0.98 \t\t|\t -0.91\n",
      "-0.2 \t\t|\t 0.82\n",
      "1.79 \t\t|\t 0.47\n",
      "0.27 \t\t|\t 0.74\n",
      "1.56 \t\t|\t 0.86\n",
      "-3.09 \t\t|\t 0.96\n",
      "-0.33 \t\t|\t 0.26\n",
      "-1.26 \t\t|\t 0.05\n",
      "0.19 \t\t|\t 0.54\n",
      "0.32 \t\t|\t 0.22\n",
      "-0.37 \t\t|\t 0.42\n",
      "-0.32 \t\t|\t 0.01\n",
      "1.32 \t\t|\t 0.87\n",
      "0.53 \t\t|\t -0.42\n",
      "0.42 \t\t|\t 0.29\n",
      "0.83 \t\t|\t -0.97\n",
      "0.41 \t\t|\t -0.23\n",
      "-0.61 \t\t|\t -1.16\n",
      "-0.35 \t\t|\t -0.1\n",
      "0.27 \t\t|\t -0.05\n"
     ]
    }
   ],
   "source": [
    "print(\"Size of sample X: \",len(X_sample))\n",
    "print(\"Size of sample Y: \",len(Y_sample))\n",
    "print(\"Sample X\\t|\\tSample Y\")\n",
    "for i in range(max(len(X_sample),len(Y_sample))):\n",
    "    print(X_sample[i],\"\\t\\t|\\t\",Y_sample[i])\n"
   ]
  },
  {
   "cell_type": "markdown",
   "metadata": {
    "deletable": true,
    "editable": true
   },
   "source": [
    "# Коэффициент корреляции Пирсона"
   ]
  },
  {
   "cell_type": "code",
   "execution_count": 4,
   "metadata": {
    "ExecuteTime": {
     "end_time": "2017-04-12T19:15:55.200261Z",
     "start_time": "2017-04-12T22:15:55.188180+03:00"
    },
    "collapsed": false,
    "deletable": true,
    "editable": true
   },
   "outputs": [
    {
     "name": "stdout",
     "output_type": "stream",
     "text": [
      "0.0389187519536\n"
     ]
    }
   ],
   "source": [
    "#tmp = np.cov(X_sample,Y_sample)\n",
    "#print(tmp[0,1]/(tmp[0,0]*tmp[1,1])**(1/2))\n",
    "pearson_coef = st.pearsonr(X_sample, Y_sample)[0]\n",
    "print(pearson_coef)"
   ]
  },
  {
   "cell_type": "markdown",
   "metadata": {
    "deletable": true,
    "editable": true
   },
   "source": [
    "# Ранговый коэффициент корреляции Спирмена"
   ]
  },
  {
   "cell_type": "code",
   "execution_count": 5,
   "metadata": {
    "ExecuteTime": {
     "end_time": "2017-04-12T19:15:55.217329Z",
     "start_time": "2017-04-12T22:15:55.203472+03:00"
    },
    "collapsed": false,
    "deletable": true,
    "editable": true
   },
   "outputs": [
    {
     "name": "stdout",
     "output_type": "stream",
     "text": [
      "0.0981988473755\n"
     ]
    }
   ],
   "source": [
    "spearman_coef = st.spearmanr(X_sample, Y_sample)[0]\n",
    "print(spearman_coef)"
   ]
  },
  {
   "cell_type": "markdown",
   "metadata": {
    "deletable": true,
    "editable": true
   },
   "source": [
    "Гипотеза: выборки независимы"
   ]
  },
  {
   "cell_type": "code",
   "execution_count": 6,
   "metadata": {
    "ExecuteTime": {
     "end_time": "2017-04-12T19:15:55.245141Z",
     "start_time": "2017-04-12T22:15:55.219915+03:00"
    },
    "collapsed": false,
    "deletable": true,
    "editable": true
   },
   "outputs": [
    {
     "name": "stdout",
     "output_type": "stream",
     "text": [
      "Left critical value =  -2.0106347547\n",
      "Right critical value =  2.0106347547\n",
      "\n",
      "t-statistic for pearson coef =  0.269841460729\n",
      "Hypothesys is not rejected because of Pearson coef:  True\n",
      "t-statistic for pearson coef =  0.683645759159\n",
      "Hypothesys is not rejected because of Pearson coef:  True\n"
     ]
    }
   ],
   "source": [
    "number_of_elements = 50\n",
    "level = 0.05\n",
    "left_border = st.t.ppf(level/2,number_of_elements-2)\n",
    "right_border = st.t.ppf(1-level/2,number_of_elements-2)\n",
    "print(\"Left critical value = \",left_border)\n",
    "print(\"Right critical value = \",right_border)\n",
    "print()\n",
    "\n",
    "t_stat_pearson = pearson_coef*(number_of_elements-2)**(1/2)/(1-pearson_coef**2)**(1/2)\n",
    "print(\"t-statistic for pearson coef = \",t_stat_pearson)\n",
    "print(\"Hypothesys is not rejected because of Pearson coef: \",left_border<=t_stat_pearson<=right_border)\n",
    "\n",
    "t_stat_spearman = spearman_coef*(number_of_elements-2)**(1/2)/(1-spearman_coef**2)**(1/2)\n",
    "print(\"t-statistic for pearson coef = \",t_stat_spearman)\n",
    "print(\"Hypothesys is not rejected because of Pearson coef: \",left_border<=t_stat_spearman<=right_border)"
   ]
  },
  {
   "cell_type": "markdown",
   "metadata": {
    "deletable": true,
    "editable": true
   },
   "source": [
    "# Диаграмма рассеяния"
   ]
  },
  {
   "cell_type": "code",
   "execution_count": 13,
   "metadata": {
    "ExecuteTime": {
     "end_time": "2017-04-12T19:16:51.198724Z",
     "start_time": "2017-04-12T22:16:51.187217+03:00"
    },
    "collapsed": false,
    "deletable": true,
    "editable": true
   },
   "outputs": [
    {
     "data": {
      "application/vnd.plotly.v1+json": {
       "data": [
        {
         "mode": "markers",
         "type": "scatter",
         "x": [
          -0.03,
          0.65,
          0.22,
          -0.35,
          -0.58,
          -1.22,
          0.64,
          0.42,
          -1,
          -1.18,
          -0.9,
          -0.77,
          -0.47,
          0.72,
          -0.19,
          0.83,
          1.16,
          0.14,
          -0.27,
          0.67,
          0.08,
          -1.28,
          -0.62,
          1.22,
          0.85,
          1.81,
          -1.9,
          -0.03,
          -0.57,
          1.16,
          -0.98,
          -0.2,
          1.79,
          0.27,
          1.56,
          -3.09,
          -0.33,
          -1.26,
          0.19,
          0.32,
          -0.37,
          -0.32,
          1.32,
          0.53,
          0.42,
          0.83,
          0.41,
          -0.61,
          -0.35,
          0.27
         ],
         "y": [
          1.18,
          -0.82,
          1.05,
          -0.17,
          -0.4,
          0.14,
          -0.6,
          0,
          -0.73,
          -0.34,
          -1.51,
          -1.04,
          -0.21,
          -1.48,
          0.53,
          -1.22,
          -0.21,
          1,
          0.49,
          -1.06,
          0.42,
          -0.3,
          -0.25,
          0.45,
          -1.07,
          0.13,
          0.05,
          1.35,
          -0.6,
          0.12,
          -0.91,
          0.82,
          0.47,
          0.74,
          0.86,
          0.96,
          0.26,
          0.05,
          0.54,
          0.22,
          0.42,
          0.01,
          0.87,
          -0.42,
          0.29,
          -0.97,
          -0.23,
          -1.16,
          -0.1,
          -0.05
         ]
        }
       ],
       "layout": {}
      },
      "text/html": [
       "<div id=\"6d7427ee-ab73-4f48-98dc-f593aa6ff75f\" style=\"height: 525px; width: 100%;\" class=\"plotly-graph-div\"></div><script type=\"text/javascript\">require([\"plotly\"], function(Plotly) { window.PLOTLYENV=window.PLOTLYENV || {};window.PLOTLYENV.BASE_URL=\"https://plot.ly\";Plotly.newPlot(\"6d7427ee-ab73-4f48-98dc-f593aa6ff75f\", [{\"type\": \"scatter\", \"x\": [-0.03, 0.65, 0.22, -0.35, -0.58, -1.22, 0.64, 0.42, -1.0, -1.18, -0.9, -0.77, -0.47, 0.72, -0.19, 0.83, 1.16, 0.14, -0.27, 0.67, 0.08, -1.28, -0.62, 1.22, 0.85, 1.81, -1.9, -0.03, -0.57, 1.16, -0.98, -0.2, 1.79, 0.27, 1.56, -3.09, -0.33, -1.26, 0.19, 0.32, -0.37, -0.32, 1.32, 0.53, 0.42, 0.83, 0.41, -0.61, -0.35, 0.27], \"y\": [1.18, -0.82, 1.05, -0.17, -0.4, 0.14, -0.6, 0.0, -0.73, -0.34, -1.51, -1.04, -0.21, -1.48, 0.53, -1.22, -0.21, 1.0, 0.49, -1.06, 0.42, -0.3, -0.25, 0.45, -1.07, 0.13, 0.05, 1.35, -0.6, 0.12, -0.91, 0.82, 0.47, 0.74, 0.86, 0.96, 0.26, 0.05, 0.54, 0.22, 0.42, 0.01, 0.87, -0.42, 0.29, -0.97, -0.23, -1.16, -0.1, -0.05], \"mode\": \"markers\"}], {}, {\"showLink\": true, \"linkText\": \"Export to plot.ly\"})});</script>"
      ],
      "text/vnd.plotly.v1+html": [
       "<div id=\"6d7427ee-ab73-4f48-98dc-f593aa6ff75f\" style=\"height: 525px; width: 100%;\" class=\"plotly-graph-div\"></div><script type=\"text/javascript\">require([\"plotly\"], function(Plotly) { window.PLOTLYENV=window.PLOTLYENV || {};window.PLOTLYENV.BASE_URL=\"https://plot.ly\";Plotly.newPlot(\"6d7427ee-ab73-4f48-98dc-f593aa6ff75f\", [{\"type\": \"scatter\", \"x\": [-0.03, 0.65, 0.22, -0.35, -0.58, -1.22, 0.64, 0.42, -1.0, -1.18, -0.9, -0.77, -0.47, 0.72, -0.19, 0.83, 1.16, 0.14, -0.27, 0.67, 0.08, -1.28, -0.62, 1.22, 0.85, 1.81, -1.9, -0.03, -0.57, 1.16, -0.98, -0.2, 1.79, 0.27, 1.56, -3.09, -0.33, -1.26, 0.19, 0.32, -0.37, -0.32, 1.32, 0.53, 0.42, 0.83, 0.41, -0.61, -0.35, 0.27], \"y\": [1.18, -0.82, 1.05, -0.17, -0.4, 0.14, -0.6, 0.0, -0.73, -0.34, -1.51, -1.04, -0.21, -1.48, 0.53, -1.22, -0.21, 1.0, 0.49, -1.06, 0.42, -0.3, -0.25, 0.45, -1.07, 0.13, 0.05, 1.35, -0.6, 0.12, -0.91, 0.82, 0.47, 0.74, 0.86, 0.96, 0.26, 0.05, 0.54, 0.22, 0.42, 0.01, 0.87, -0.42, 0.29, -0.97, -0.23, -1.16, -0.1, -0.05], \"mode\": \"markers\"}], {}, {\"showLink\": true, \"linkText\": \"Export to plot.ly\"})});</script>"
      ]
     },
     "metadata": {},
     "output_type": "display_data"
    }
   ],
   "source": [
    "draw_plot(X_sample,Y_sample)"
   ]
  },
  {
   "cell_type": "markdown",
   "metadata": {
    "ExecuteTime": {
     "end_time": "2017-03-25T11:20:05.877651",
     "start_time": "2017-03-25T11:20:05.869076"
    },
    "deletable": true,
    "editable": true
   },
   "source": [
    "# Вывод\n",
    "Оба коэффцициента корреляции говорят о слабой зависимости между значениями двух выборок. С помощью критериев значимости гипотеза о независимости не была отвергнута. Но диаграмма рассеяния свидетельствует о том, что зависимость есть, и заметна она хорошо. Почему так произошло? Потому что коэффициент корреляции Пирсона (а коэффициент Спирмена основан на нём) показывает только линейную взаимосвязь, а у данных выборок, судя по диаграмме, зависимость нелинейная."
   ]
  },
  {
   "cell_type": "code",
   "execution_count": 8,
   "metadata": {
    "ExecuteTime": {
     "end_time": "2017-04-12T19:15:55.275895Z",
     "start_time": "2017-04-12T22:15:55.264306+03:00"
    },
    "collapsed": false,
    "deletable": true,
    "editable": true
   },
   "outputs": [
    {
     "data": {
      "text/plain": [
       "SpearmanrResult(correlation=0.5, pvalue=0.66666666666666674)"
      ]
     },
     "execution_count": 8,
     "metadata": {},
     "output_type": "execute_result"
    }
   ],
   "source": [
    "st.spearmanr([0,2,1000],[2,0,1000])"
   ]
  },
  {
   "cell_type": "code",
   "execution_count": 9,
   "metadata": {
    "ExecuteTime": {
     "end_time": "2017-04-12T19:15:55.287357Z",
     "start_time": "2017-04-12T22:15:55.279730+03:00"
    },
    "collapsed": false,
    "deletable": true,
    "editable": true
   },
   "outputs": [
    {
     "data": {
      "text/plain": [
       "(0.99999398800004813, 0.0022075208928452037)"
      ]
     },
     "execution_count": 9,
     "metadata": {},
     "output_type": "execute_result"
    }
   ],
   "source": [
    "st.pearsonr([0,2,1000],[2,0,1000])"
   ]
  },
  {
   "cell_type": "code",
   "execution_count": 14,
   "metadata": {
    "ExecuteTime": {
     "end_time": "2017-04-12T19:16:55.641213Z",
     "start_time": "2017-04-12T22:16:55.633631+03:00"
    },
    "collapsed": false,
    "deletable": true,
    "editable": true
   },
   "outputs": [
    {
     "data": {
      "application/vnd.plotly.v1+json": {
       "data": [
        {
         "mode": "markers",
         "type": "scatter",
         "x": [
          1,
          2,
          3,
          4
         ],
         "y": [
          3,
          4,
          5,
          6
         ]
        }
       ],
       "layout": {}
      },
      "text/html": [
       "<div id=\"d6a36ebf-2010-4244-b752-5cb277c3b668\" style=\"height: 525px; width: 100%;\" class=\"plotly-graph-div\"></div><script type=\"text/javascript\">require([\"plotly\"], function(Plotly) { window.PLOTLYENV=window.PLOTLYENV || {};window.PLOTLYENV.BASE_URL=\"https://plot.ly\";Plotly.newPlot(\"d6a36ebf-2010-4244-b752-5cb277c3b668\", [{\"type\": \"scatter\", \"x\": [1, 2, 3, 4], \"y\": [3, 4, 5, 6], \"mode\": \"markers\"}], {}, {\"showLink\": true, \"linkText\": \"Export to plot.ly\"})});</script>"
      ],
      "text/vnd.plotly.v1+html": [
       "<div id=\"d6a36ebf-2010-4244-b752-5cb277c3b668\" style=\"height: 525px; width: 100%;\" class=\"plotly-graph-div\"></div><script type=\"text/javascript\">require([\"plotly\"], function(Plotly) { window.PLOTLYENV=window.PLOTLYENV || {};window.PLOTLYENV.BASE_URL=\"https://plot.ly\";Plotly.newPlot(\"d6a36ebf-2010-4244-b752-5cb277c3b668\", [{\"type\": \"scatter\", \"x\": [1, 2, 3, 4], \"y\": [3, 4, 5, 6], \"mode\": \"markers\"}], {}, {\"showLink\": true, \"linkText\": \"Export to plot.ly\"})});</script>"
      ]
     },
     "metadata": {},
     "output_type": "display_data"
    }
   ],
   "source": [
    "draw_plot([1,2,3,4],[3,4,5,6])"
   ]
  },
  {
   "cell_type": "code",
   "execution_count": null,
   "metadata": {
    "collapsed": true
   },
   "outputs": [],
   "source": []
  },
  {
   "cell_type": "code",
   "execution_count": null,
   "metadata": {
    "collapsed": true
   },
   "outputs": [],
   "source": []
  },
  {
   "cell_type": "code",
   "execution_count": null,
   "metadata": {
    "collapsed": true
   },
   "outputs": [],
   "source": []
  }
 ],
 "metadata": {
  "kernelspec": {
   "display_name": "Python 3",
   "language": "python",
   "name": "python3"
  },
  "language_info": {
   "codemirror_mode": {
    "name": "ipython",
    "version": 3
   },
   "file_extension": ".py",
   "mimetype": "text/x-python",
   "name": "python",
   "nbconvert_exporter": "python",
   "pygments_lexer": "ipython3",
   "version": "3.6.0"
  }
 },
 "nbformat": 4,
 "nbformat_minor": 2
}
