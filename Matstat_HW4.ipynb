{
 "cells": [
  {
   "cell_type": "markdown",
   "metadata": {
    "deletable": true,
    "editable": true
   },
   "source": [
    "# ДЗ по матстату, задание 4 (вар. 10)"
   ]
  },
  {
   "cell_type": "markdown",
   "metadata": {
    "deletable": true,
    "editable": true
   },
   "source": [
    "# Часть I"
   ]
  },
  {
   "cell_type": "code",
   "execution_count": 25,
   "metadata": {
    "ExecuteTime": {
     "end_time": "2017-04-12T19:19:27.747523Z",
     "start_time": "2017-04-12T22:19:27.695026+03:00"
    },
    "collapsed": false,
    "deletable": true,
    "editable": true
   },
   "outputs": [
    {
     "data": {
      "text/html": [
       "<script>requirejs.config({paths: { 'plotly': ['https://cdn.plot.ly/plotly-latest.min']},});if(!window.Plotly) {{require(['plotly'],function(plotly) {window.Plotly=plotly;});}}</script>"
      ],
      "text/vnd.plotly.v1+html": [
       "<script>requirejs.config({paths: { 'plotly': ['https://cdn.plot.ly/plotly-latest.min']},});if(!window.Plotly) {{require(['plotly'],function(plotly) {window.Plotly=plotly;});}}</script>"
      ]
     },
     "metadata": {},
     "output_type": "display_data"
    }
   ],
   "source": [
    "%matplotlib inline\n",
    "import numpy as np\n",
    "import scipy as st\n",
    "import statsmodels.api as sm\n",
    "import statsmodels.formula.api as smf\n",
    "from statistics import mean\n",
    "\n",
    "from plotly.offline import download_plotlyjs, init_notebook_mode, plot, iplot\n",
    "import plotly.plotly as py\n",
    "import plotly.graph_objs as go\n",
    "\n",
    "init_notebook_mode(connected=True)\n",
    "\n",
    "\n",
    "def B_ridge(y_sample, x_sample, l):\n",
    "    x_transposed = np.transpose(x_sample)\n",
    "    mul = np.matmul(x_transposed, x_sample)\n",
    "    diag = np.identity(len(mul)) * l\n",
    "    return np.matmul(np.matmul(np.linalg.inv(mul + diag), x_transposed), y_sample)\n",
    "\n",
    "def draw_plot(title, sample_1, title_1, sample_2, title_2):\n",
    "    trace = go.Scatter(x=sample_1, y=sample_2, mode='lines')\n",
    "    data = [trace]\n",
    "    layout = dict(title=title, xaxis=dict(title=title_1), yaxis=dict(title=title_2))\n",
    "    fig = dict(data=data, layout=layout)\n",
    "    iplot(fig)"
   ]
  },
  {
   "cell_type": "code",
   "execution_count": 2,
   "metadata": {
    "ExecuteTime": {
     "end_time": "2017-04-12T19:15:40.362505Z",
     "start_time": "2017-04-12T22:15:40.335559+03:00"
    },
    "collapsed": false,
    "deletable": true,
    "editable": true
   },
   "outputs": [],
   "source": [
    "Y_sample = [4.966667, 30.65334, 9.473333, 28.42333, 26.33167, 45.82833, 25.66, 16.01, 15.41833, 17.73667, 6.935, 18.04167, 12.51667, 5.331666, 22.325, 45.55, 13.455, 18.55833, 29.22667, 31.4,\n",
    "            48.02833, 19.50667, 10.86833, 13.975, 32.51167, 5.453333, 23.7, 25.25333, 42.75, 12.85334, 25.90667, 23.45333, 21.635, 11.60167, 8.896666, 47.50666, 20.80333, 42.30167, 14.23167, 25.055]\n",
    "Y_mean = mean(Y_sample)\n",
    "X2_sample = [20.4, 28.3, 23.4, 19.1, 41.6, 22.9, 31.7, 29.5, 29.9, 25.1, 28.2, 24.8, 23.5, 22.5, 16, 39.8, 29.8, 27.7, 36.8,\n",
    "             34.7, 35.9, 33.3, 20.9, 30, 26.9, 29.8, 21.7, 31.4, 36.7, 14.3, 29.4, 34.5, 29.3, 18.2, 14.5, 27.3, 23.5, 29.6, 35.2, 22.1]\n",
    "X3_sample = [23.6, 33.4, 26, 34.8, 31.3, 50.3, 31.4, 28.6, 23.7, 30.6, 25.9, 21.7, 35, 24.9, 38.5, 30.2, 39.5, 31.3, 28.8,\n",
    "             35.8, 27.3, 31.6, 31.7, 30.5, 37.3, 21.4, 40.8, 24.8, 26.8, 36.4, 23, 25.2, 28.3, 25.9, 41.8, 47.6, 32.2, 37.5, 21.7, 25.7]\n",
    "X4_sample = [25.44, 33.96, 27.4, 35.32, 32.07, 49.27, 32.36, 29.84, 25.33, 31.54, 27.11, 23.53, 35.4, 26.41, 38.55, 31.18, 39.65, 32.17, 29.92,\n",
    "             36.12, 28.57, 32.44, 32.63, 31.45, 37.57, 23.36, 40.72, 26.32, 28.12, 36.86, 24.5, 26.68, 29.47, 27.31, 41.52, 46.84, 32.98, 37.75, 23.53, 27.13]\n",
    "k = 4\n",
    "n = len(Y_sample)"
   ]
  },
  {
   "cell_type": "code",
   "execution_count": 3,
   "metadata": {
    "ExecuteTime": {
     "end_time": "2017-04-12T19:15:40.376616Z",
     "start_time": "2017-04-12T22:15:40.365756+03:00"
    },
    "collapsed": false,
    "deletable": true,
    "editable": true
   },
   "outputs": [],
   "source": [
    "X_sample = []\n",
    "for i in range(len(X2_sample)):\n",
    "    X_sample.append([X2_sample[i], X3_sample[i], X4_sample[i]])\n",
    "X_sample = sm.add_constant(X_sample)\n",
    "\n",
    "model = sm.OLS(Y_sample, X_sample)\n",
    "res = model.fit()"
   ]
  },
  {
   "cell_type": "markdown",
   "metadata": {
    "deletable": true,
    "editable": true
   },
   "source": [
    "Полученные по МНК коэффициенты β1, β3, β3, β4:"
   ]
  },
  {
   "cell_type": "code",
   "execution_count": 4,
   "metadata": {
    "ExecuteTime": {
     "end_time": "2017-04-12T19:15:40.385943Z",
     "start_time": "2017-04-12T22:15:40.378929+03:00"
    },
    "collapsed": false,
    "deletable": true,
    "editable": true
   },
   "outputs": [
    {
     "name": "stdout",
     "output_type": "stream",
     "text": [
      "[-6.71424569  1.08010078  8.26936304 -8.0549378 ]\n"
     ]
    }
   ],
   "source": [
    "coefs = res.params\n",
    "print(coefs)"
   ]
  },
  {
   "cell_type": "code",
   "execution_count": 5,
   "metadata": {
    "ExecuteTime": {
     "end_time": "2017-04-12T19:15:40.398400Z",
     "start_time": "2017-04-12T22:15:40.389027+03:00"
    },
    "collapsed": false,
    "deletable": true,
    "editable": true
   },
   "outputs": [
    {
     "name": "stdout",
     "output_type": "stream",
     "text": [
      "[5.5591602676699949, 26.503644142823248, 12.858255814896722, 17.189109768069784, 38.727154642417645, 37.102237468258181, 26.525161219964389, 21.293166254988193, 17.53309717929875, 19.386054613377127, 19.551735238088014, 9.9847451516050398, 22.951030801557351, 10.764254193507128, 18.419991470045431, 34.855568534975077, 32.734313745192026, 22.90825996216762, 30.187379562565866, 35.864094795622975, 27.685410335489991, 29.262800057778861, 15.166048455203907, 24.5765565543837, 28.163693420127743, 14.273779587884491, 26.116885892204493, 20.275159271189722, 28.039531455717196, 12.831002646503123, 17.890091037864721, 24.031439307799985, 21.576664174190455, 7.1397398357963198, 20.165573040704317, 39.100899580218879, 19.289763781452109, 31.283949340227252, 21.217793306962704, 11.148149091212247]\n"
     ]
    }
   ],
   "source": [
    "Y_estimated=[coefs[0]+coefs[1]*X2_sample[i] + coefs[2]*X3_sample[i] + coefs[3]*X4_sample[i] for i in range(len(X2_sample))]\n",
    "print(Y_estimated)"
   ]
  },
  {
   "cell_type": "markdown",
   "metadata": {
    "deletable": true,
    "editable": true
   },
   "source": [
    "ESS (сумма квадратов, объяснённая моделью):"
   ]
  },
  {
   "cell_type": "code",
   "execution_count": 6,
   "metadata": {
    "ExecuteTime": {
     "end_time": "2017-04-12T19:15:40.413420Z",
     "start_time": "2017-04-12T22:15:40.401909+03:00"
    },
    "collapsed": false,
    "deletable": true,
    "editable": true
   },
   "outputs": [
    {
     "name": "stdout",
     "output_type": "stream",
     "text": [
      "2900.00163606\n"
     ]
    }
   ],
   "source": [
    "# ESS = sum((Y_estimated[i]-Y_mean)**2 for i in range(len(Y_estimated)))\n",
    "# print(ESS)\n",
    "ESS = res.ess\n",
    "print(ESS)"
   ]
  },
  {
   "cell_type": "markdown",
   "metadata": {
    "ExecuteTime": {
     "end_time": "2017-04-11T21:53:23.654339Z",
     "start_time": "2017-04-12T00:53:23.647492+03:00"
    },
    "deletable": true,
    "editable": true
   },
   "source": [
    "TSS (полная сумма квадратов):"
   ]
  },
  {
   "cell_type": "code",
   "execution_count": 7,
   "metadata": {
    "ExecuteTime": {
     "end_time": "2017-04-12T19:15:40.530928Z",
     "start_time": "2017-04-12T22:15:40.525913+03:00"
    },
    "collapsed": false,
    "deletable": true,
    "editable": true
   },
   "outputs": [
    {
     "name": "stdout",
     "output_type": "stream",
     "text": [
      "5856.1051345\n"
     ]
    }
   ],
   "source": [
    "# TSS = sum((Y_sample[i] - Y_mean)**2 for i in range(len(Y_estimated)))\n",
    "# print(TSS)\n",
    "TSS = res.centered_tss\n",
    "print(TSS)"
   ]
  },
  {
   "cell_type": "markdown",
   "metadata": {
    "deletable": true,
    "editable": true
   },
   "source": [
    "RSS (остаточная сумма квадратов):"
   ]
  },
  {
   "cell_type": "code",
   "execution_count": 8,
   "metadata": {
    "ExecuteTime": {
     "end_time": "2017-04-12T19:15:41.104981Z",
     "start_time": "2017-04-12T22:15:41.097662+03:00"
    },
    "collapsed": false,
    "deletable": true,
    "editable": true
   },
   "outputs": [
    {
     "name": "stdout",
     "output_type": "stream",
     "text": [
      "2956.10349845\n"
     ]
    }
   ],
   "source": [
    "# RSS = sum((Y_sample[i] - Y_estimated[i])**2 for i in range(len(Y_estimated)))\n",
    "# print(RSS)\n",
    "RSS = sum(res.resid[i]**2 for i in range(len(Y_sample)))\n",
    "print(RSS)"
   ]
  },
  {
   "cell_type": "markdown",
   "metadata": {
    "deletable": true,
    "editable": true
   },
   "source": [
    "Значимость регрессии: (Основная гипотеза - все коэффициенты незначимы)"
   ]
  },
  {
   "cell_type": "code",
   "execution_count": 9,
   "metadata": {
    "ExecuteTime": {
     "end_time": "2017-04-12T19:15:41.280549Z",
     "start_time": "2017-04-12T22:15:41.269346+03:00"
    },
    "collapsed": false,
    "deletable": true,
    "editable": true
   },
   "outputs": [
    {
     "name": "stdout",
     "output_type": "stream",
     "text": [
      "F-статистика =  11.772260224\n",
      "Критическое значение =  2.86626555094\n"
     ]
    }
   ],
   "source": [
    "#F = (ESS / (k - 1)) / (RSS / (n - k))\n",
    "F = res.fvalue\n",
    "F_crit = st.stats.f.ppf(0.95, k - 1, n - k)\n",
    "print(\"F-статистика = \", F)\n",
    "print(\"Критическое значение = \", F_crit)"
   ]
  },
  {
   "cell_type": "markdown",
   "metadata": {
    "deletable": true,
    "editable": true
   },
   "source": [
    "Отвергаем гипотезу о незначимости модели регрессии?"
   ]
  },
  {
   "cell_type": "code",
   "execution_count": 10,
   "metadata": {
    "ExecuteTime": {
     "end_time": "2017-04-12T19:15:41.446265Z",
     "start_time": "2017-04-12T22:15:41.439700+03:00"
    },
    "collapsed": false,
    "deletable": true,
    "editable": true
   },
   "outputs": [
    {
     "name": "stdout",
     "output_type": "stream",
     "text": [
      "Да\n"
     ]
    }
   ],
   "source": [
    "print(\"Да\" if F > F_crit else \"Нет\")"
   ]
  },
  {
   "cell_type": "markdown",
   "metadata": {
    "deletable": true,
    "editable": true
   },
   "source": [
    "Проверка значимости коэффициентов (H0: βi незначим, т.е. βi = 0):"
   ]
  },
  {
   "cell_type": "code",
   "execution_count": 11,
   "metadata": {
    "ExecuteTime": {
     "end_time": "2017-04-12T19:15:41.623259Z",
     "start_time": "2017-04-12T22:15:41.613957+03:00"
    },
    "collapsed": false,
    "deletable": true,
    "editable": true
   },
   "outputs": [
    {
     "name": "stdout",
     "output_type": "stream",
     "text": [
      "β1  незначим:  Да\n",
      "β2  незначим:  Нет\n",
      "β3  незначим:  Да\n",
      "β4  незначим:  Да\n"
     ]
    }
   ],
   "source": [
    "t_test = res.tvalues\n",
    "t_test_crit = st.stats.t.ppf(0.95, n - k)\n",
    "for i in range(len(coefs)):\n",
    "    print(\"β\" + str(i+1), \" незначим: \",\n",
    "          \"Да\" if abs(t_test[i]) < t_test_crit else \"Нет\")"
   ]
  },
  {
   "cell_type": "markdown",
   "metadata": {
    "ExecuteTime": {
     "end_time": "2017-04-12T08:48:58.790471Z",
     "start_time": "2017-04-12T11:48:58.775684+03:00"
    },
    "collapsed": false,
    "deletable": true,
    "editable": true
   },
   "source": [
    "Проверка совместной значимости β3 и β4 (H0: β3 = β4 = 0):"
   ]
  },
  {
   "cell_type": "code",
   "execution_count": 12,
   "metadata": {
    "ExecuteTime": {
     "end_time": "2017-04-12T19:15:41.788987Z",
     "start_time": "2017-04-12T22:15:41.780969+03:00"
    },
    "collapsed": false,
    "deletable": true,
    "editable": true
   },
   "outputs": [
    {
     "name": "stdout",
     "output_type": "stream",
     "text": [
      "RSS с уловием совместной незначимости β3 и β4 = 4945.16709149\n"
     ]
    }
   ],
   "source": [
    "q = 2  # кол-во знаков \"=\" в условии\n",
    "Y_restricted = [coefs[0] + coefs[1] * X2_sample[i] + 0 *\n",
    "                X3_sample[i] + 0 * X4_sample[i] for i in range(len(X2_sample))]\n",
    "RSS_restricted = sum((Y_sample[i] - Y_restricted[i])\n",
    "                     ** 2 for i in range(len(Y_estimated)))\n",
    "print(\"RSS с уловием совместной незначимости β3 и β4 = \" + str(RSS_restricted))"
   ]
  },
  {
   "cell_type": "code",
   "execution_count": 13,
   "metadata": {
    "ExecuteTime": {
     "end_time": "2017-04-12T19:15:41.879506Z",
     "start_time": "2017-04-12T22:15:41.872660+03:00"
    },
    "collapsed": false,
    "deletable": true,
    "editable": true
   },
   "outputs": [
    {
     "name": "stdout",
     "output_type": "stream",
     "text": [
      "Object `H0` not found.\n"
     ]
    }
   ],
   "source": [
    "Отвергаем гипотезу H0?"
   ]
  },
  {
   "cell_type": "code",
   "execution_count": null,
   "metadata": {
    "collapsed": true
   },
   "outputs": [],
   "source": [
    "Отвергаем гипотезу H0"
   ]
  },
  {
   "cell_type": "code",
   "execution_count": 14,
   "metadata": {
    "ExecuteTime": {
     "end_time": "2017-04-12T19:15:41.961275Z",
     "start_time": "2017-04-12T22:15:41.954353+03:00"
    },
    "collapsed": false,
    "deletable": true,
    "editable": true
   },
   "outputs": [
    {
     "ename": "SyntaxError",
     "evalue": "invalid syntax (<ipython-input-14-93d19601deca>, line 1)",
     "output_type": "error",
     "traceback": [
      "\u001b[0;36m  File \u001b[0;32m\"<ipython-input-14-93d19601deca>\"\u001b[0;36m, line \u001b[0;32m1\u001b[0m\n\u001b[0;31m    Отвергаем гипотезу H0\u001b[0m\n\u001b[0m                     ^\u001b[0m\n\u001b[0;31mSyntaxError\u001b[0m\u001b[0;31m:\u001b[0m invalid syntax\n"
     ]
    }
   ],
   "source": [
    "Отвергаем гипотезу H0"
   ]
  },
  {
   "cell_type": "code",
   "execution_count": 15,
   "metadata": {
    "ExecuteTime": {
     "end_time": "2017-04-12T19:15:42.072228Z",
     "start_time": "2017-04-12T22:15:42.066876+03:00"
    },
    "collapsed": false,
    "deletable": true,
    "editable": true
   },
   "outputs": [
    {
     "ename": "SyntaxError",
     "evalue": "invalid syntax (<ipython-input-15-93d19601deca>, line 1)",
     "output_type": "error",
     "traceback": [
      "\u001b[0;36m  File \u001b[0;32m\"<ipython-input-15-93d19601deca>\"\u001b[0;36m, line \u001b[0;32m1\u001b[0m\n\u001b[0;31m    Отвергаем гипотезу H0\u001b[0m\n\u001b[0m                     ^\u001b[0m\n\u001b[0;31mSyntaxError\u001b[0m\u001b[0;31m:\u001b[0m invalid syntax\n"
     ]
    }
   ],
   "source": [
    "Отвергаем гипотезу H0"
   ]
  },
  {
   "cell_type": "code",
   "execution_count": 16,
   "metadata": {
    "ExecuteTime": {
     "end_time": "2017-04-12T19:15:42.146660Z",
     "start_time": "2017-04-12T22:15:42.136444+03:00"
    },
    "collapsed": false,
    "deletable": true,
    "editable": true
   },
   "outputs": [
    {
     "name": "stdout",
     "output_type": "stream",
     "text": [
      "Да\n"
     ]
    }
   ],
   "source": [
    "F_restricted = ((RSS_restricted - RSS) / q) / (RSS / (n - k))\n",
    "F_restricted_crit = st.stats.f.ppf(0.95, q, n - k)\n",
    "print(\"Да\" if F_restricted > F_restricted_crit else \"Нет\")"
   ]
  },
  {
   "cell_type": "markdown",
   "metadata": {
    "ExecuteTime": {
     "end_time": "2017-04-12T09:18:08.428433Z",
     "start_time": "2017-04-12T12:18:08.421725+03:00"
    },
    "deletable": true,
    "editable": true
   },
   "source": [
    "Матрица корреляции:"
   ]
  },
  {
   "cell_type": "code",
   "execution_count": 17,
   "metadata": {
    "ExecuteTime": {
     "end_time": "2017-04-12T19:15:42.324262Z",
     "start_time": "2017-04-12T22:15:42.308097+03:00"
    },
    "collapsed": false,
    "deletable": true,
    "editable": true
   },
   "outputs": [
    {
     "name": "stdout",
     "output_type": "stream",
     "text": [
      "\tY\tX2\tX3\tX4\n",
      "Y\t1.0000\t0.4286\t0.4062\t0.4046\t\n",
      "X2\t0.4286\t1.0000\t-0.2924\t-0.2940\t\n",
      "X3\t0.4062\t-0.2924\t1.0000\t0.9999\t\n",
      "X4\t0.4046\t-0.2940\t0.9999\t1.0000\t\n"
     ]
    }
   ],
   "source": [
    "corr_matrix = np.corrcoef([Y_sample, X2_sample, X3_sample, X4_sample])\n",
    "names = [\"Y\", \"X2\", \"X3\", \"X4\"]\n",
    "tab = \"\\t\"\n",
    "print(tab + names[0] + tab + names[1] + tab + names[2] + tab + names[3])\n",
    "for i in range(4):\n",
    "    print(names[i],end=tab)\n",
    "    for j in range(4):\n",
    "        print(\"%.4f\" % corr_matrix[i][j],end=tab)\n",
    "    print()"
   ]
  },
  {
   "cell_type": "markdown",
   "metadata": {
    "deletable": true,
    "editable": true
   },
   "source": [
    "# Часть II"
   ]
  },
  {
   "cell_type": "code",
   "execution_count": 18,
   "metadata": {
    "ExecuteTime": {
     "end_time": "2017-04-12T19:15:42.503744Z",
     "start_time": "2017-04-12T22:15:42.464222+03:00"
    },
    "collapsed": false,
    "deletable": true,
    "editable": true
   },
   "outputs": [
    {
     "name": "stdout",
     "output_type": "stream",
     "text": [
      "𝜆 = 0.0;\t[-6.71424569  1.08010078  8.26936304 -8.0549378 ]\n",
      "𝜆 = 0.1;\t[-4.25491931  1.06950631  8.66787225 -8.50987771]\n",
      "𝜆 = 0.2;\t[-4.05945217  1.06068894  8.58047722 -8.42313641]\n",
      "𝜆 = 0.3;\t[-3.95565699  1.05216915  8.47677748 -8.31794014]\n",
      "𝜆 = 0.4;\t[-3.87787406  1.04389305  8.37083097 -8.2099634 ]\n",
      "𝜆 = 0.5;\t[-3.8116513   1.03584191  8.2656291  -8.10255014]\n",
      "𝜆 = 0.6;\t[-3.75194154  1.0280038   8.16213641 -7.99678542]\n",
      "𝜆 = 0.7;\t[-3.69650403  1.02036917  8.06071706 -7.89308487]\n",
      "𝜆 = 0.8;\t[-3.64417886  1.01292957  7.9615076  -7.79161002]\n",
      "𝜆 = 0.9;\t[-3.59429591  1.00567729  7.86454441 -7.69241027]\n",
      "𝜆 = 1.0;\t[-3.54643406  0.99860514  7.76981538 -7.59548063]\n",
      "𝜆 = 1.1;\t[-3.50031009  0.99170636  7.67728366 -7.50078805]\n",
      "𝜆 = 1.2;\t[-3.45572262  0.98497457  7.58689941 -7.4082847 ]\n",
      "𝜆 = 1.3;\t[-3.41252155  0.97840372  7.49860621 -7.31791498]\n",
      "𝜆 = 1.4;\t[-3.37059043  0.97198805  7.41234451 -7.22961952]\n",
      "𝜆 = 1.5;\t[-3.32983589  0.96572211  7.32805377 -7.14333747]\n",
      "𝜆 = 1.6;\t[-3.29018083  0.95960068  7.24567364 -7.05900792]\n",
      "𝜆 = 1.7;\t[-3.25156006  0.95361881  7.1651447  -6.97657069]\n",
      "𝜆 = 1.8;\t[-3.21391738  0.94777175  7.08640892 -6.89596689]\n",
      "𝜆 = 1.9;\t[-3.17720346  0.94205499  7.00940989 -6.81713916]\n",
      "𝜆 = 2.0;\t[-3.14137442  0.9364642   6.93409301 -6.74003194]\n"
     ]
    }
   ],
   "source": [
    "lmd = []\n",
    "b1 = []\n",
    "b2 = []\n",
    "b3 = []\n",
    "b4 = []\n",
    "for i in range(21):\n",
    "    res = B_ridge(Y_sample, X_sample, i / 10)\n",
    "    lmd.append(i/10)\n",
    "    b1.append(res[0])\n",
    "    b2.append(res[1])\n",
    "    b3.append(res[2])\n",
    "    b4.append(res[3])\n",
    "    print(\"𝜆 = \" + str(i / 10) + \";\\t\" + str(res))"
   ]
  },
  {
   "cell_type": "markdown",
   "metadata": {
    "ExecuteTime": {
     "end_time": "2017-04-12T18:47:02.154883Z",
     "start_time": "2017-04-12T21:47:02.146504+03:00"
    },
    "collapsed": false,
    "deletable": true,
    "editable": true
   },
   "source": [
    "Графики зависимости оценок коэффициентов регрессии от 𝜆:"
   ]
  },
  {
   "cell_type": "code",
   "execution_count": 31,
   "metadata": {
    "ExecuteTime": {
     "end_time": "2017-04-12T19:20:29.189910Z",
     "start_time": "2017-04-12T22:20:29.181044+03:00"
    },
    "collapsed": false,
    "deletable": true,
    "editable": true
   },
   "outputs": [
    {
     "data": {
      "application/vnd.plotly.v1+json": {
       "data": [
        {
         "mode": "lines",
         "type": "scatter",
         "x": [
          0,
          0.1,
          0.2,
          0.3,
          0.4,
          0.5,
          0.6,
          0.7,
          0.8,
          0.9,
          1,
          1.1,
          1.2,
          1.3,
          1.4,
          1.5,
          1.6,
          1.7,
          1.8,
          1.9,
          2
         ],
         "y": [
          -6.714245690005143,
          -4.254919311860463,
          -4.059452165037271,
          -3.9556569886076938,
          -3.8778740567238046,
          -3.811651301318447,
          -3.751941541102406,
          -3.696504032729161,
          -3.6441788581929337,
          -3.594295913104837,
          -3.546434055946194,
          -3.5003100893618084,
          -3.455722622320918,
          -3.4125215460538634,
          -3.3705904346586797,
          -3.329835891039501,
          -3.2901808258343026,
          -3.2515600644228657,
          -3.2139173846853453,
          -3.1772034632253727,
          -3.1413744161616184
         ]
        }
       ],
       "layout": {
        "title": "Зависимость β1 от 𝜆",
        "xaxis": {
         "title": "𝜆"
        },
        "yaxis": {
         "title": "β1"
        }
       }
      },
      "text/html": [
       "<div id=\"4d696ced-52ab-413c-b1c7-beda48b405d6\" style=\"height: 525px; width: 100%;\" class=\"plotly-graph-div\"></div><script type=\"text/javascript\">require([\"plotly\"], function(Plotly) { window.PLOTLYENV=window.PLOTLYENV || {};window.PLOTLYENV.BASE_URL=\"https://plot.ly\";Plotly.newPlot(\"4d696ced-52ab-413c-b1c7-beda48b405d6\", [{\"type\": \"scatter\", \"x\": [0.0, 0.1, 0.2, 0.3, 0.4, 0.5, 0.6, 0.7, 0.8, 0.9, 1.0, 1.1, 1.2, 1.3, 1.4, 1.5, 1.6, 1.7, 1.8, 1.9, 2.0], \"y\": [-6.714245690005143, -4.254919311860463, -4.059452165037271, -3.9556569886076938, -3.8778740567238046, -3.811651301318447, -3.751941541102406, -3.696504032729161, -3.6441788581929337, -3.594295913104837, -3.546434055946194, -3.5003100893618084, -3.455722622320918, -3.4125215460538634, -3.3705904346586797, -3.329835891039501, -3.2901808258343026, -3.2515600644228657, -3.2139173846853453, -3.1772034632253727, -3.1413744161616184], \"mode\": \"lines\"}], {\"title\": \"\\u0417\\u0430\\u0432\\u0438\\u0441\\u0438\\u043c\\u043e\\u0441\\u0442\\u044c \\u03b21 \\u043e\\u0442 \\ud835\\udf06\", \"xaxis\": {\"title\": \"\\ud835\\udf06\"}, \"yaxis\": {\"title\": \"\\u03b21\"}}, {\"showLink\": true, \"linkText\": \"Export to plot.ly\"})});</script>"
      ],
      "text/vnd.plotly.v1+html": [
       "<div id=\"4d696ced-52ab-413c-b1c7-beda48b405d6\" style=\"height: 525px; width: 100%;\" class=\"plotly-graph-div\"></div><script type=\"text/javascript\">require([\"plotly\"], function(Plotly) { window.PLOTLYENV=window.PLOTLYENV || {};window.PLOTLYENV.BASE_URL=\"https://plot.ly\";Plotly.newPlot(\"4d696ced-52ab-413c-b1c7-beda48b405d6\", [{\"type\": \"scatter\", \"x\": [0.0, 0.1, 0.2, 0.3, 0.4, 0.5, 0.6, 0.7, 0.8, 0.9, 1.0, 1.1, 1.2, 1.3, 1.4, 1.5, 1.6, 1.7, 1.8, 1.9, 2.0], \"y\": [-6.714245690005143, -4.254919311860463, -4.059452165037271, -3.9556569886076938, -3.8778740567238046, -3.811651301318447, -3.751941541102406, -3.696504032729161, -3.6441788581929337, -3.594295913104837, -3.546434055946194, -3.5003100893618084, -3.455722622320918, -3.4125215460538634, -3.3705904346586797, -3.329835891039501, -3.2901808258343026, -3.2515600644228657, -3.2139173846853453, -3.1772034632253727, -3.1413744161616184], \"mode\": \"lines\"}], {\"title\": \"\\u0417\\u0430\\u0432\\u0438\\u0441\\u0438\\u043c\\u043e\\u0441\\u0442\\u044c \\u03b21 \\u043e\\u0442 \\ud835\\udf06\", \"xaxis\": {\"title\": \"\\ud835\\udf06\"}, \"yaxis\": {\"title\": \"\\u03b21\"}}, {\"showLink\": true, \"linkText\": \"Export to plot.ly\"})});</script>"
      ]
     },
     "metadata": {},
     "output_type": "display_data"
    }
   ],
   "source": [
    "draw_plot(\"Зависимость β1 от 𝜆\",lmd,\"𝜆\",b1,\"β1\")"
   ]
  },
  {
   "cell_type": "code",
   "execution_count": 28,
   "metadata": {
    "ExecuteTime": {
     "end_time": "2017-04-12T19:20:03.518392Z",
     "start_time": "2017-04-12T22:20:03.508081+03:00"
    },
    "collapsed": false,
    "deletable": true,
    "editable": true
   },
   "outputs": [
    {
     "data": {
      "application/vnd.plotly.v1+json": {
       "data": [
        {
         "mode": "lines",
         "type": "scatter",
         "x": [
          0,
          0.1,
          0.2,
          0.3,
          0.4,
          0.5,
          0.6,
          0.7,
          0.8,
          0.9,
          1,
          1.1,
          1.2,
          1.3,
          1.4,
          1.5,
          1.6,
          1.7,
          1.8,
          1.9,
          2
         ],
         "y": [
          1.080100784187199,
          1.0695063123541417,
          1.0606889446517394,
          1.0521691527800998,
          1.0438930535240663,
          1.0358419069004456,
          1.0280038030858258,
          1.0203691683349996,
          1.012929569775733,
          1.0056772898608448,
          0.998605139634441,
          0.991706361575639,
          0.984974571176399,
          0.9784037173040395,
          0.9719880526648454,
          0.9657221101883966,
          0.9596006832183068,
          0.953618808315807,
          0.9477717500004885,
          0.9420549869853309,
          0.9364641996373673
         ]
        }
       ],
       "layout": {
        "title": "Зависимость β2 от 𝜆",
        "xaxis": {
         "title": "𝜆"
        },
        "yaxis": {
         "title": "β1"
        }
       }
      },
      "text/html": [
       "<div id=\"1feb7b0e-bfa5-40aa-90bc-00ee0950f05d\" style=\"height: 525px; width: 100%;\" class=\"plotly-graph-div\"></div><script type=\"text/javascript\">require([\"plotly\"], function(Plotly) { window.PLOTLYENV=window.PLOTLYENV || {};window.PLOTLYENV.BASE_URL=\"https://plot.ly\";Plotly.newPlot(\"1feb7b0e-bfa5-40aa-90bc-00ee0950f05d\", [{\"type\": \"scatter\", \"x\": [0.0, 0.1, 0.2, 0.3, 0.4, 0.5, 0.6, 0.7, 0.8, 0.9, 1.0, 1.1, 1.2, 1.3, 1.4, 1.5, 1.6, 1.7, 1.8, 1.9, 2.0], \"y\": [1.080100784187199, 1.0695063123541417, 1.0606889446517394, 1.0521691527800998, 1.0438930535240663, 1.0358419069004456, 1.0280038030858258, 1.0203691683349996, 1.012929569775733, 1.0056772898608448, 0.998605139634441, 0.991706361575639, 0.984974571176399, 0.9784037173040395, 0.9719880526648454, 0.9657221101883966, 0.9596006832183068, 0.953618808315807, 0.9477717500004885, 0.9420549869853309, 0.9364641996373673], \"mode\": \"lines\"}], {\"title\": \"\\u0417\\u0430\\u0432\\u0438\\u0441\\u0438\\u043c\\u043e\\u0441\\u0442\\u044c \\u03b22 \\u043e\\u0442 \\ud835\\udf06\", \"xaxis\": {\"title\": \"\\ud835\\udf06\"}, \"yaxis\": {\"title\": \"\\u03b21\"}}, {\"showLink\": true, \"linkText\": \"Export to plot.ly\"})});</script>"
      ],
      "text/vnd.plotly.v1+html": [
       "<div id=\"1feb7b0e-bfa5-40aa-90bc-00ee0950f05d\" style=\"height: 525px; width: 100%;\" class=\"plotly-graph-div\"></div><script type=\"text/javascript\">require([\"plotly\"], function(Plotly) { window.PLOTLYENV=window.PLOTLYENV || {};window.PLOTLYENV.BASE_URL=\"https://plot.ly\";Plotly.newPlot(\"1feb7b0e-bfa5-40aa-90bc-00ee0950f05d\", [{\"type\": \"scatter\", \"x\": [0.0, 0.1, 0.2, 0.3, 0.4, 0.5, 0.6, 0.7, 0.8, 0.9, 1.0, 1.1, 1.2, 1.3, 1.4, 1.5, 1.6, 1.7, 1.8, 1.9, 2.0], \"y\": [1.080100784187199, 1.0695063123541417, 1.0606889446517394, 1.0521691527800998, 1.0438930535240663, 1.0358419069004456, 1.0280038030858258, 1.0203691683349996, 1.012929569775733, 1.0056772898608448, 0.998605139634441, 0.991706361575639, 0.984974571176399, 0.9784037173040395, 0.9719880526648454, 0.9657221101883966, 0.9596006832183068, 0.953618808315807, 0.9477717500004885, 0.9420549869853309, 0.9364641996373673], \"mode\": \"lines\"}], {\"title\": \"\\u0417\\u0430\\u0432\\u0438\\u0441\\u0438\\u043c\\u043e\\u0441\\u0442\\u044c \\u03b22 \\u043e\\u0442 \\ud835\\udf06\", \"xaxis\": {\"title\": \"\\ud835\\udf06\"}, \"yaxis\": {\"title\": \"\\u03b21\"}}, {\"showLink\": true, \"linkText\": \"Export to plot.ly\"})});</script>"
      ]
     },
     "metadata": {},
     "output_type": "display_data"
    }
   ],
   "source": [
    "draw_plot(\"Зависимость β2 от 𝜆\",lmd,\"𝜆\",b2,\"β1\")"
   ]
  },
  {
   "cell_type": "code",
   "execution_count": 29,
   "metadata": {
    "ExecuteTime": {
     "end_time": "2017-04-12T19:20:08.502726Z",
     "start_time": "2017-04-12T22:20:08.490371+03:00"
    },
    "collapsed": false
   },
   "outputs": [
    {
     "data": {
      "application/vnd.plotly.v1+json": {
       "data": [
        {
         "mode": "lines",
         "type": "scatter",
         "x": [
          0,
          0.1,
          0.2,
          0.3,
          0.4,
          0.5,
          0.6,
          0.7,
          0.8,
          0.9,
          1,
          1.1,
          1.2,
          1.3,
          1.4,
          1.5,
          1.6,
          1.7,
          1.8,
          1.9,
          2
         ],
         "y": [
          8.269363037572731,
          8.667872252279976,
          8.58047721504486,
          8.476777482917907,
          8.370830972308113,
          8.265629100343155,
          8.162136405852527,
          8.06071705510427,
          7.961507600894006,
          7.864544408270802,
          7.769815384418523,
          7.677283657685453,
          7.58689941223149,
          7.498606205303831,
          7.4123445097816685,
          7.328053773027155,
          7.245673642229251,
          7.1651447019226575,
          7.086408916477453,
          7.009409889340953,
          6.934093005945203
         ]
        }
       ],
       "layout": {
        "title": "Зависимость β3 от 𝜆",
        "xaxis": {
         "title": "𝜆"
        },
        "yaxis": {
         "title": "β1"
        }
       }
      },
      "text/html": [
       "<div id=\"1134c087-be02-4bc5-b13d-cbeb3a6d3628\" style=\"height: 525px; width: 100%;\" class=\"plotly-graph-div\"></div><script type=\"text/javascript\">require([\"plotly\"], function(Plotly) { window.PLOTLYENV=window.PLOTLYENV || {};window.PLOTLYENV.BASE_URL=\"https://plot.ly\";Plotly.newPlot(\"1134c087-be02-4bc5-b13d-cbeb3a6d3628\", [{\"type\": \"scatter\", \"x\": [0.0, 0.1, 0.2, 0.3, 0.4, 0.5, 0.6, 0.7, 0.8, 0.9, 1.0, 1.1, 1.2, 1.3, 1.4, 1.5, 1.6, 1.7, 1.8, 1.9, 2.0], \"y\": [8.269363037572731, 8.667872252279976, 8.58047721504486, 8.476777482917907, 8.370830972308113, 8.265629100343155, 8.162136405852527, 8.06071705510427, 7.961507600894006, 7.864544408270802, 7.769815384418523, 7.677283657685453, 7.58689941223149, 7.498606205303831, 7.4123445097816685, 7.328053773027155, 7.245673642229251, 7.1651447019226575, 7.086408916477453, 7.009409889340953, 6.934093005945203], \"mode\": \"lines\"}], {\"title\": \"\\u0417\\u0430\\u0432\\u0438\\u0441\\u0438\\u043c\\u043e\\u0441\\u0442\\u044c \\u03b23 \\u043e\\u0442 \\ud835\\udf06\", \"xaxis\": {\"title\": \"\\ud835\\udf06\"}, \"yaxis\": {\"title\": \"\\u03b21\"}}, {\"showLink\": true, \"linkText\": \"Export to plot.ly\"})});</script>"
      ],
      "text/vnd.plotly.v1+html": [
       "<div id=\"1134c087-be02-4bc5-b13d-cbeb3a6d3628\" style=\"height: 525px; width: 100%;\" class=\"plotly-graph-div\"></div><script type=\"text/javascript\">require([\"plotly\"], function(Plotly) { window.PLOTLYENV=window.PLOTLYENV || {};window.PLOTLYENV.BASE_URL=\"https://plot.ly\";Plotly.newPlot(\"1134c087-be02-4bc5-b13d-cbeb3a6d3628\", [{\"type\": \"scatter\", \"x\": [0.0, 0.1, 0.2, 0.3, 0.4, 0.5, 0.6, 0.7, 0.8, 0.9, 1.0, 1.1, 1.2, 1.3, 1.4, 1.5, 1.6, 1.7, 1.8, 1.9, 2.0], \"y\": [8.269363037572731, 8.667872252279976, 8.58047721504486, 8.476777482917907, 8.370830972308113, 8.265629100343155, 8.162136405852527, 8.06071705510427, 7.961507600894006, 7.864544408270802, 7.769815384418523, 7.677283657685453, 7.58689941223149, 7.498606205303831, 7.4123445097816685, 7.328053773027155, 7.245673642229251, 7.1651447019226575, 7.086408916477453, 7.009409889340953, 6.934093005945203], \"mode\": \"lines\"}], {\"title\": \"\\u0417\\u0430\\u0432\\u0438\\u0441\\u0438\\u043c\\u043e\\u0441\\u0442\\u044c \\u03b23 \\u043e\\u0442 \\ud835\\udf06\", \"xaxis\": {\"title\": \"\\ud835\\udf06\"}, \"yaxis\": {\"title\": \"\\u03b21\"}}, {\"showLink\": true, \"linkText\": \"Export to plot.ly\"})});</script>"
      ]
     },
     "metadata": {},
     "output_type": "display_data"
    }
   ],
   "source": [
    "draw_plot(\"Зависимость β3 от 𝜆\",lmd,\"𝜆\",b3,\"β1\")"
   ]
  },
  {
   "cell_type": "code",
   "execution_count": 30,
   "metadata": {
    "ExecuteTime": {
     "end_time": "2017-04-12T19:20:15.243090Z",
     "start_time": "2017-04-12T22:20:15.233794+03:00"
    },
    "collapsed": false
   },
   "outputs": [
    {
     "data": {
      "application/vnd.plotly.v1+json": {
       "data": [
        {
         "mode": "lines",
         "type": "scatter",
         "x": [
          0,
          0.1,
          0.2,
          0.3,
          0.4,
          0.5,
          0.6,
          0.7,
          0.8,
          0.9,
          1,
          1.1,
          1.2,
          1.3,
          1.4,
          1.5,
          1.6,
          1.7,
          1.8,
          1.9,
          2
         ],
         "y": [
          -8.054937803719863,
          -8.509877707131832,
          -8.423136411640973,
          -8.317940137067785,
          -8.209963399602502,
          -8.102550135470405,
          -7.9967854197535075,
          -7.893084873860952,
          -7.791610016775117,
          -7.6924102705567226,
          -7.59548062542055,
          -7.500788049239335,
          -7.40828469842438,
          -7.317914979721803,
          -7.229619518824212,
          -7.143337474395624,
          -7.059007922026359,
          -6.976570693388273,
          -6.895966885497136,
          -6.817139164720139,
          -6.740031940164253
         ]
        }
       ],
       "layout": {
        "title": "Зависимость β4 от 𝜆",
        "xaxis": {
         "title": "𝜆"
        },
        "yaxis": {
         "title": "β1"
        }
       }
      },
      "text/html": [
       "<div id=\"892deab6-d133-4297-8a79-bdab7e887d5d\" style=\"height: 525px; width: 100%;\" class=\"plotly-graph-div\"></div><script type=\"text/javascript\">require([\"plotly\"], function(Plotly) { window.PLOTLYENV=window.PLOTLYENV || {};window.PLOTLYENV.BASE_URL=\"https://plot.ly\";Plotly.newPlot(\"892deab6-d133-4297-8a79-bdab7e887d5d\", [{\"type\": \"scatter\", \"x\": [0.0, 0.1, 0.2, 0.3, 0.4, 0.5, 0.6, 0.7, 0.8, 0.9, 1.0, 1.1, 1.2, 1.3, 1.4, 1.5, 1.6, 1.7, 1.8, 1.9, 2.0], \"y\": [-8.054937803719863, -8.509877707131832, -8.423136411640973, -8.317940137067785, -8.209963399602502, -8.102550135470405, -7.9967854197535075, -7.893084873860952, -7.791610016775117, -7.6924102705567226, -7.59548062542055, -7.500788049239335, -7.40828469842438, -7.317914979721803, -7.229619518824212, -7.143337474395624, -7.059007922026359, -6.976570693388273, -6.895966885497136, -6.817139164720139, -6.740031940164253], \"mode\": \"lines\"}], {\"title\": \"\\u0417\\u0430\\u0432\\u0438\\u0441\\u0438\\u043c\\u043e\\u0441\\u0442\\u044c \\u03b24 \\u043e\\u0442 \\ud835\\udf06\", \"xaxis\": {\"title\": \"\\ud835\\udf06\"}, \"yaxis\": {\"title\": \"\\u03b21\"}}, {\"showLink\": true, \"linkText\": \"Export to plot.ly\"})});</script>"
      ],
      "text/vnd.plotly.v1+html": [
       "<div id=\"892deab6-d133-4297-8a79-bdab7e887d5d\" style=\"height: 525px; width: 100%;\" class=\"plotly-graph-div\"></div><script type=\"text/javascript\">require([\"plotly\"], function(Plotly) { window.PLOTLYENV=window.PLOTLYENV || {};window.PLOTLYENV.BASE_URL=\"https://plot.ly\";Plotly.newPlot(\"892deab6-d133-4297-8a79-bdab7e887d5d\", [{\"type\": \"scatter\", \"x\": [0.0, 0.1, 0.2, 0.3, 0.4, 0.5, 0.6, 0.7, 0.8, 0.9, 1.0, 1.1, 1.2, 1.3, 1.4, 1.5, 1.6, 1.7, 1.8, 1.9, 2.0], \"y\": [-8.054937803719863, -8.509877707131832, -8.423136411640973, -8.317940137067785, -8.209963399602502, -8.102550135470405, -7.9967854197535075, -7.893084873860952, -7.791610016775117, -7.6924102705567226, -7.59548062542055, -7.500788049239335, -7.40828469842438, -7.317914979721803, -7.229619518824212, -7.143337474395624, -7.059007922026359, -6.976570693388273, -6.895966885497136, -6.817139164720139, -6.740031940164253], \"mode\": \"lines\"}], {\"title\": \"\\u0417\\u0430\\u0432\\u0438\\u0441\\u0438\\u043c\\u043e\\u0441\\u0442\\u044c \\u03b24 \\u043e\\u0442 \\ud835\\udf06\", \"xaxis\": {\"title\": \"\\ud835\\udf06\"}, \"yaxis\": {\"title\": \"\\u03b21\"}}, {\"showLink\": true, \"linkText\": \"Export to plot.ly\"})});</script>"
      ]
     },
     "metadata": {},
     "output_type": "display_data"
    }
   ],
   "source": [
    "draw_plot(\"Зависимость β4 от 𝜆\",lmd,\"𝜆\",b4,\"β1\")"
   ]
  },
  {
   "cell_type": "code",
   "execution_count": null,
   "metadata": {
    "collapsed": true
   },
   "outputs": [],
   "source": []
  }
 ],
 "metadata": {
  "kernelspec": {
   "display_name": "Python 3",
   "language": "python",
   "name": "python3"
  },
  "language_info": {
   "codemirror_mode": {
    "name": "ipython",
    "version": 3
   },
   "file_extension": ".py",
   "mimetype": "text/x-python",
   "name": "python",
   "nbconvert_exporter": "python",
   "pygments_lexer": "ipython3",
   "version": "3.6.0"
  }
 },
 "nbformat": 4,
 "nbformat_minor": 2
}
