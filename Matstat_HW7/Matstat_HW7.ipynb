{
 "cells": [
  {
   "cell_type": "markdown",
   "metadata": {},
   "source": [
    "# Домашная работа по математической статистике\n",
    "**Задание 7, Вариант 10  \n",
    "Выполнил: Захаров Сергей, БПИ153**"
   ]
  },
  {
   "cell_type": "code",
   "execution_count": 83,
   "metadata": {
    "ExecuteTime": {
     "end_time": "2017-06-08T17:23:09.184331Z",
     "start_time": "2017-06-08T20:23:09.158944+03:00"
    },
    "collapsed": true
   },
   "outputs": [],
   "source": [
    "import matplotlib.pyplot as plt\n",
    "import pandas as pd\n",
    "import numpy as np\n",
    "from sklearn import cluster\n",
    "%matplotlib inline\n",
    "\n",
    "\n",
    "def cluster_and_draw(data, n_clusters):\n",
    "    k_means = cluster.KMeans(n_clusters=n_clusters)\n",
    "    k_means.fit(data)\n",
    "    colors = ['mediumslateblue', 'coral',\n",
    "              'yellow', 'seagreen', 'purple', 'blue']\n",
    "    labels = k_means.labels_\n",
    "    centroids = k_means.cluster_centers_\n",
    "\n",
    "    fig = plt.figure()\n",
    "    fig.set_size_inches(8, 6)\n",
    "    fig.suptitle(\"N of clusters = {}\".format(n_clusters))\n",
    "    for i in range(n_clusters):\n",
    "        # select only data observations with cluster label == i\n",
    "        ds = data.iloc[np.where(labels == i)]\n",
    "        # plots the data observations\n",
    "        plt.plot(ds.iloc[:, 0], ds.iloc[:, 1],\n",
    "                 marker='.',\n",
    "                 color=colors[i],\n",
    "                 markersize=3.0,\n",
    "                 linewidth=0)\n",
    "        # plots the centroids\n",
    "        plt.plot(centroids[i, 0], centroids[i, 1],\n",
    "                 color='black',\n",
    "                 marker='x',\n",
    "                 markersize=8.0,\n",
    "                 markeredgewidth=2.0)\n",
    "    plt.show()"
   ]
  },
  {
   "cell_type": "code",
   "execution_count": 84,
   "metadata": {
    "ExecuteTime": {
     "end_time": "2017-06-08T17:23:09.502768Z",
     "start_time": "2017-06-08T20:23:09.490946+03:00"
    },
    "collapsed": false
   },
   "outputs": [],
   "source": [
    "data = pd.read_csv(\"data.csv\",\n",
    "                   usecols=['x10', 'y10'],\n",
    "                   sep=';')\n",
    "data.dropna(inplace=True)  # drops NaN values"
   ]
  },
  {
   "cell_type": "markdown",
   "metadata": {},
   "source": [
    "Имеем выборку точек на плоскости. Применяем к имеющимся данным метод k-средних, выбирая количество кластеров равным 2, 3 и 4 по очереди.  \n",
    "Разными цветами обозначаем точки разных кластеров, крестиками — центры кластеров.\n",
    "\n",
    "### k = 2"
   ]
  },
  {
   "cell_type": "code",
   "execution_count": 85,
   "metadata": {
    "ExecuteTime": {
     "end_time": "2017-06-08T17:23:12.171985Z",
     "start_time": "2017-06-08T20:23:11.900482+03:00"
    },
    "collapsed": false
   },
   "outputs": [
    {
     "data": {
      "image/png": "[encoded data removed]",
      "text/plain": [
       "<matplotlib.figure.Figure at 0x1128bfef0>"
      ]
     },
     "metadata": {},
     "output_type": "display_data"
    }
   ],
   "source": [
    "cluster_and_draw(data, 2)"
   ]
  },
  {
   "cell_type": "markdown",
   "metadata": {},
   "source": [
    "### k = 3"
   ]
  },
  {
   "cell_type": "code",
   "execution_count": 86,
   "metadata": {
    "ExecuteTime": {
     "end_time": "2017-06-08T17:23:15.195748Z",
     "start_time": "2017-06-08T20:23:14.913268+03:00"
    },
    "collapsed": false
   },
   "outputs": [
    {
     "data": {
      "image/png": "[encoded data removed]",
      "text/plain": [
       "<matplotlib.figure.Figure at 0x1128e73c8>"
      ]
     },
     "metadata": {},
     "output_type": "display_data"
    }
   ],
   "source": [
    "cluster_and_draw(data, 3)"
   ]
  },
  {
   "cell_type": "markdown",
   "metadata": {
    "deletable": true,
    "editable": true
   },
   "source": [
    "### k = 4"
   ]
  },
  {
   "cell_type": "code",
   "execution_count": 87,
   "metadata": {
    "ExecuteTime": {
     "end_time": "2017-06-08T17:23:16.940294Z",
     "start_time": "2017-06-08T20:23:16.659674+03:00"
    },
    "collapsed": false,
    "deletable": true,
    "editable": true
   },
   "outputs": [
    {
     "data": {
      "image/png": "[encoded data removed]",
      "text/plain": [
       "<matplotlib.figure.Figure at 0x1121c4358>"
      ]
     },
     "metadata": {},
     "output_type": "display_data"
    }
   ],
   "source": [
    "cluster_and_draw(data, 4)"
   ]
  },
  {
   "cell_type": "markdown",
   "metadata": {},
   "source": [
    "Заметим, что в данной выборке визуально заметны лишь два кластера, они сразу нашлись при кластеризации по 2 кластерам. Поэтому, в принципе, здесь оказалась почти бесполезной кластеризация по 3 и по 4 кластерам. Тем не менее, некоторая польза всё-таки имеется: много \"шумовых\" точек выделилось в отдельные классы."
   ]
  }
 ],
 "metadata": {
  "kernelspec": {
   "display_name": "Python 3",
   "language": "python",
   "name": "python3"
  },
  "language_info": {
   "codemirror_mode": {
    "name": "ipython",
    "version": 3
   },
   "file_extension": ".py",
   "mimetype": "text/x-python",
   "name": "python",
   "nbconvert_exporter": "python",
   "pygments_lexer": "ipython3",
   "version": "3.6.1"
  }
 },
 "nbformat": 4,
 "nbformat_minor": 2
}
