{
 "cells": [
  {
   "cell_type": "markdown",
   "metadata": {},
   "source": [
    "# Домашная работа по математической статистике\n",
    "**Задание 7, Вариант 10  \n",
    "Выполнил: Захаров Сергей, БПИ153**"
   ]
  },
  {
   "cell_type": "code",
   "execution_count": 78,
   "metadata": {
    "ExecuteTime": {
     "end_time": "2017-06-08T16:50:26.053612Z",
     "start_time": "2017-06-08T19:50:26.021894+03:00"
    },
    "collapsed": true
   },
   "outputs": [],
   "source": [
    "import matplotlib.pyplot as plt\n",
    "import pandas as pd\n",
    "import numpy as np\n",
    "from sklearn import cluster\n",
    "%matplotlib inline\n",
    "\n",
    "\n",
    "def cluster_and_draw(data, n_clusters):\n",
    "    k_means = cluster.KMeans(n_clusters=n_clusters)\n",
    "    k_means.fit(data)\n",
    "    colors = ['mediumslateblue', 'coral',\n",
    "              'yellow', 'seagreen', 'purple', 'blue']\n",
    "    labels = k_means.labels_\n",
    "    centroids = k_means.cluster_centers_\n",
    "\n",
    "    fig = plt.figure()\n",
    "    fig.set_size_inches(8,6)\n",
    "    fig.suptitle(\"N of clusters = {}\".format(n_clusters))\n",
    "    for i in range(n_clusters):\n",
    "        # select only data observations with cluster label == i\n",
    "        ds = data.iloc[np.where(labels == i)]\n",
    "        # plots the data observations\n",
    "        plt.plot(ds.iloc[:, 0], ds.iloc[:, 1],\n",
    "                 marker='.',\n",
    "                 color=colors[i],\n",
    "                 markersize=3.0,\n",
    "                 linewidth=0)\n",
    "        # plots the centroids\n",
    "        plt.plot(centroids[i, 0], centroids[i, 1],\n",
    "                 color='black',\n",
    "                 marker='x',\n",
    "                 markersize=8.0,\n",
    "                 markeredgewidth=2.0)\n",
    "    plt.show()"
   ]
  },
  {
   "cell_type": "code",
   "execution_count": 79,
   "metadata": {
    "ExecuteTime": {
     "end_time": "2017-06-08T16:50:26.193599Z",
     "start_time": "2017-06-08T19:50:26.179968+03:00"
    },
    "collapsed": false
   },
   "outputs": [],
   "source": [
    "data = pd.read_csv(\"data.csv\",\n",
    "                   usecols=['x10', 'y10'],\n",
    "                   sep=';')\n",
    "data.dropna(inplace=True)  # drops NaN values"
   ]
  },
  {
   "cell_type": "markdown",
   "metadata": {},
   "source": [
    "Имеем выборку точек на плоскости. Применяем к имеющимся данным метод k-средних, выбирая количество кластеров равным 2, 3 и 4 по очереди.  \n",
    "Разными цветами обозначаем точки разных кластеров, крестиками — центры кластеров.\n",
    "\n",
    "### k = 2"
   ]
  },
  {
   "cell_type": "code",
   "execution_count": 80,
   "metadata": {
    "ExecuteTime": {
     "end_time": "2017-06-08T16:50:30.121029Z",
     "start_time": "2017-06-08T19:50:29.860069+03:00"
    },
    "collapsed": false
   },
   "outputs": [
    {
     "data": {
      "image/png": "[encoded data removed]",
      "text/plain": [
       "<matplotlib.figure.Figure at 0x11201e668>"
      ]
     },
     "metadata": {},
     "output_type": "display_data"
    }
   ],
   "source": [
    "cluster_and_draw(data, 2)"
   ]
  },
  {
   "cell_type": "markdown",
   "metadata": {},
   "source": [
    "### k = 3"
   ]
  },
  {
   "cell_type": "code",
   "execution_count": 81,
   "metadata": {
    "ExecuteTime": {
     "end_time": "2017-06-08T16:50:34.667720Z",
     "start_time": "2017-06-08T19:50:34.393896+03:00"
    },
    "collapsed": false
   },
   "outputs": [
    {
     "data": {
      "image/png": "[encoded data removed]",
      "text/plain": [
       "<matplotlib.figure.Figure at 0x111b33470>"
      ]
     },
     "metadata": {},
     "output_type": "display_data"
    }
   ],
   "source": [
    "cluster_and_draw(data, 3)"
   ]
  },
  {
   "cell_type": "markdown",
   "metadata": {
    "deletable": true,
    "editable": true
   },
   "source": [
    "### k = 4"
   ]
  },
  {
   "cell_type": "code",
   "execution_count": 82,
   "metadata": {
    "ExecuteTime": {
     "end_time": "2017-06-08T16:50:56.155826Z",
     "start_time": "2017-06-08T19:50:55.874985+03:00"
    },
    "collapsed": false,
    "deletable": true,
    "editable": true
   },
   "outputs": [
    {
     "data": {
      "image/png": "[encoded data removed]",
      "text/plain": [
       "<matplotlib.figure.Figure at 0x111c22470>"
      ]
     },
     "metadata": {},
     "output_type": "display_data"
    }
   ],
   "source": [
    "cluster_and_draw(data, 4)"
   ]
  },
  {
   "cell_type": "markdown",
   "metadata": {},
   "source": []
  }
 ],
 "metadata": {
  "kernelspec": {
   "display_name": "Python 3",
   "language": "python",
   "name": "python3"
  },
  "language_info": {
   "codemirror_mode": {
    "name": "ipython",
    "version": 3
   },
   "file_extension": ".py",
   "mimetype": "text/x-python",
   "name": "python",
   "nbconvert_exporter": "python",
   "pygments_lexer": "ipython3",
   "version": "3.6.1"
  }
 },
 "nbformat": 4,
 "nbformat_minor": 2
}
