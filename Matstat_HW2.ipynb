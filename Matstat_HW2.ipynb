{
 "cells": [
  {
   "cell_type": "markdown",
   "metadata": {
    "deletable": true,
    "editable": true
   },
   "source": [
    "# Задача 2"
   ]
  },
  {
   "cell_type": "code",
   "execution_count": 111,
   "metadata": {
    "ExecuteTime": {
     "end_time": "2017-03-24T22:13:10.064900",
     "start_time": "2017-03-24T22:13:09.902050"
    },
    "code_folding": [
     6
    ],
    "collapsed": false,
    "deletable": true,
    "editable": true
   },
   "outputs": [],
   "source": [
    "%matplotlib inline\n",
    "import scipy.stats as st\n",
    "import numpy as np\n",
    "import matplotlib.pyplot as plt\n",
    "import collections\n",
    "import math\n",
    "\n",
    "\n",
    "def sample_mean(ls):\n",
    "    return sum(ls) / len(ls)\n",
    "\n",
    "\n",
    "def sample_varience_unbiased(ls):\n",
    "    mean = sample_mean(ls)\n",
    "    i = 0\n",
    "    for e in ls:\n",
    "        i += (mean - e)**2\n",
    "    return i / (len(ls) - 1)\n",
    "\n",
    "\n",
    "def print_iterable(iterable, in_one_line):\n",
    "    if not isinstance(iterable, collections.Iterable):\n",
    "        raise TypeError(\"Argument should be iterable\")\n",
    "    iter = 0\n",
    "    for i in iterable:\n",
    "        iter += 1\n",
    "        print(i, '\\t', end='')\n",
    "        if iter % in_one_line == 0:\n",
    "            print()\n",
    "\n",
    "# Generates needed selection of random variable X (X - param ~ t4)\n",
    "\n",
    "\n",
    "def gen_selection(freedom_degr, param, size):\n",
    "    sel = st.t.rvs(df=freedom_degr, size=size)\n",
    "    sel = [i + param for i in sel]\n",
    "    return sel\n",
    "\n",
    "# Tests provided selection's sample mean with population mean at the\n",
    "# significance level\n",
    "\n",
    "\n",
    "def test_mean(sel, pop_mean, level):\n",
    "    n = len(sel)\n",
    "    s_mean = sample_mean(sel)\n",
    "    sigma = sample_varience(sel)\n",
    "    left_border = st.t.ppf(level / 2, n - 1)\n",
    "    right_border = st.t.ppf(1 - level / 2, n - 1)\n",
    "    statistic = (s_mean - pop_mean) * (n**(1 / 2))\n",
    "    return left_border <= statistic <= right_border\n",
    "\n",
    "# Computes probability of type I error\n",
    "\n",
    "\n",
    "def type_1_error(repeats, sel_size, freedom_degr, param, hyp_mean, level):\n",
    "    errors = 0\n",
    "    for i in range(repeats):\n",
    "        if not test_mean(gen_selection(freedom_degr, param, sel_size), hyp_mean, level):\n",
    "            errors += 1\n",
    "    return errors / repeats\n",
    "\n",
    "\n",
    "def power_function(repeats, sel_size, freedom_degr, hyp_mean, level):\n",
    "    print(\"Mean\\t|\\tProbability to reject H0\")\n",
    "    params = []\n",
    "    probs = []\n",
    "    for i in range(10, 51, 5):\n",
    "        param = i / 10\n",
    "        prob = type_1_error(repeats, sel_size, freedom_degr,\n",
    "                            param, hyp_mean, level)\n",
    "        params.append(param)\n",
    "        probs.append(prob)\n",
    "        print(param, \"\\t|\\t\", prob)\n",
    "    plt.plot(params, probs)\n",
    "    plt.show()"
   ]
  },
  {
   "cell_type": "markdown",
   "metadata": {
    "deletable": true,
    "editable": true
   },
   "source": [
    "# Выборка объёма 8:"
   ]
  },
  {
   "cell_type": "code",
   "execution_count": 108,
   "metadata": {
    "ExecuteTime": {
     "end_time": "2017-03-24T22:12:49.689458",
     "start_time": "2017-03-24T22:12:49.684824"
    },
    "collapsed": false,
    "deletable": true,
    "editable": true
   },
   "outputs": [],
   "source": [
    "estimate = 3\n",
    "freedom_d = 4\n",
    "selection8 = gen_selection(freedom_d, estimate, 8)"
   ]
  },
  {
   "cell_type": "code",
   "execution_count": 109,
   "metadata": {
    "ExecuteTime": {
     "end_time": "2017-03-24T22:12:50.152230",
     "start_time": "2017-03-24T22:12:50.140250"
    },
    "collapsed": false,
    "deletable": true,
    "editable": true
   },
   "outputs": [
    {
     "name": "stdout",
     "output_type": "stream",
     "text": [
      "3.33475958531 \t4.07196878337 \t2.36684329609 \t-0.569998917294 \t\n",
      "2.33056581101 \t3.83932503524 \t2.40060838536 \t2.32702299155 \t\n"
     ]
    }
   ],
   "source": [
    "print_iterable(selection8, 4)"
   ]
  },
  {
   "cell_type": "markdown",
   "metadata": {
    "collapsed": true,
    "deletable": true,
    "editable": true
   },
   "source": [
    "Проверка на уровне значимости 5% гипотезы о равенстве мат. ожидания трём:"
   ]
  },
  {
   "cell_type": "code",
   "execution_count": 113,
   "metadata": {
    "ExecuteTime": {
     "end_time": "2017-03-24T22:13:15.432200",
     "start_time": "2017-03-24T22:13:15.425093"
    },
    "collapsed": false,
    "deletable": true,
    "editable": true
   },
   "outputs": [
    {
     "name": "stdout",
     "output_type": "stream",
     "text": [
      "True\n"
     ]
    }
   ],
   "source": [
    "print(test_mean(selection8, 3, 0.05))"
   ]
  },
  {
   "cell_type": "markdown",
   "metadata": {
    "deletable": true,
    "editable": true
   },
   "source": [
    "Повторим эксперимент 10 000 раз и оценим вероятность ошибки первого рода: "
   ]
  },
  {
   "cell_type": "code",
   "execution_count": 116,
   "metadata": {
    "ExecuteTime": {
     "end_time": "2017-03-24T22:14:04.499061",
     "start_time": "2017-03-24T22:13:59.276507"
    },
    "collapsed": false,
    "deletable": true,
    "editable": true
   },
   "outputs": [
    {
     "name": "stdout",
     "output_type": "stream",
     "text": [
      "Probability of type I error is:  0.0877\n"
     ]
    }
   ],
   "source": [
    "print(\"Probability of type I error is: \",\n",
    "      type_1_error(10000, 8, 4, 3, 3, 0.05))"
   ]
  },
  {
   "cell_type": "markdown",
   "metadata": {
    "deletable": true,
    "editable": true
   },
   "source": [
    "Оценим функцию мощности используемого критерия:"
   ]
  },
  {
   "cell_type": "code",
   "execution_count": 117,
   "metadata": {
    "ExecuteTime": {
     "end_time": "2017-03-24T22:15:54.962906",
     "start_time": "2017-03-24T22:15:09.805770"
    },
    "collapsed": false,
    "deletable": true,
    "editable": true
   },
   "outputs": [
    {
     "name": "stdout",
     "output_type": "stream",
     "text": [
      "Mean\t|\tProbability to reject H0\n",
      "1.0 \t|\t 0.9885\n",
      "1.5 \t|\t 0.9179\n",
      "2.0 \t|\t 0.6454\n",
      "2.5 \t|\t 0.2493\n",
      "3.0 \t|\t 0.0845\n",
      "3.5 \t|\t 0.2454\n",
      "4.0 \t|\t 0.6368\n",
      "4.5 \t|\t 0.918\n",
      "5.0 \t|\t 0.9902\n"
     ]
    },
    {
     "data": {
      "image/png": "[encoded data removed]",
      "text/plain": [
       "<matplotlib.figure.Figure at 0x10b0c2470>"
      ]
     },
     "metadata": {},
     "output_type": "display_data"
    }
   ],
   "source": [
    "power_function(10000,8,4,3,0.05)"
   ]
  },
  {
   "cell_type": "markdown",
   "metadata": {
    "ExecuteTime": {
     "end_time": "2017-02-22T23:30:40.075354",
     "start_time": "2017-02-22T23:30:40.070882"
    },
    "deletable": true,
    "editable": true
   },
   "source": [
    "# Выборка объёма 50:"
   ]
  },
  {
   "cell_type": "code",
   "execution_count": 120,
   "metadata": {
    "ExecuteTime": {
     "end_time": "2017-03-24T22:16:47.128865",
     "start_time": "2017-03-24T22:16:47.103250"
    },
    "collapsed": false,
    "deletable": true,
    "editable": true
   },
   "outputs": [
    {
     "name": "stdout",
     "output_type": "stream",
     "text": [
      "4.04445344689 \t4.06856192297 \t4.41055234902 \t0.442789833574 \t2.08555440725 \t\n",
      "2.55144316591 \t1.09680193522 \t4.5835135751 \t5.02552639801 \t2.0557516936 \t\n",
      "1.62530276812 \t0.180722593266 \t1.66484461723 \t5.8493704808 \t3.56470708463 \t\n",
      "3.72612993216 \t3.61546374286 \t2.96343726508 \t3.55058305248 \t3.6843852631 \t\n",
      "4.59018767854 \t2.82629729995 \t4.90977295392 \t3.08379433228 \t4.62737447256 \t\n",
      "4.23024063077 \t-1.64509869391 \t3.36591885617 \t5.34173238692 \t5.68377813562 \t\n",
      "3.36149130621 \t2.86341140381 \t5.16124938713 \t2.94255141121 \t4.29254339414 \t\n",
      "2.13150695151 \t2.5277286091 \t2.86826535885 \t2.88884529263 \t3.36683432764 \t\n",
      "2.02598975975 \t1.92676516476 \t2.66799332402 \t2.67452345883 \t3.10572604457 \t\n",
      "2.37955269981 \t2.86763992715 \t3.31354993527 \t4.49356726583 \t4.03939363094 \t\n"
     ]
    }
   ],
   "source": [
    "estimate = 3\n",
    "freedom_d = 4\n",
    "selection50 = gen_selection(freedom_d, estimate, 50)\n",
    "print_iterable(selection50, 5)"
   ]
  },
  {
   "cell_type": "markdown",
   "metadata": {
    "collapsed": true,
    "deletable": true,
    "editable": true
   },
   "source": [
    "Проверка на уровне значимости 5% гипотезы о равенстве мат. ожидания трём:"
   ]
  },
  {
   "cell_type": "code",
   "execution_count": 121,
   "metadata": {
    "ExecuteTime": {
     "end_time": "2017-03-24T22:16:48.844088",
     "start_time": "2017-03-24T22:16:48.834588"
    },
    "collapsed": false,
    "deletable": true,
    "editable": true
   },
   "outputs": [
    {
     "name": "stdout",
     "output_type": "stream",
     "text": [
      "True\n"
     ]
    }
   ],
   "source": [
    "print(test_mean(selection50, 3, 0.05))"
   ]
  },
  {
   "cell_type": "markdown",
   "metadata": {
    "deletable": true,
    "editable": true
   },
   "source": [
    "Повторим эксперимент 10 000 раз и оценим вероятность ошибки первого рода: "
   ]
  },
  {
   "cell_type": "code",
   "execution_count": 122,
   "metadata": {
    "ExecuteTime": {
     "end_time": "2017-03-24T22:16:55.804263",
     "start_time": "2017-03-24T22:16:50.652044"
    },
    "collapsed": false,
    "deletable": true,
    "editable": true
   },
   "outputs": [
    {
     "name": "stdout",
     "output_type": "stream",
     "text": [
      "Probability of type I error is:  0.1518\n"
     ]
    }
   ],
   "source": [
    "print(\"Probability of type I error is: \",\n",
    "      type_1_error(10000, 50, 4, 3, 3, 0.05))"
   ]
  },
  {
   "cell_type": "markdown",
   "metadata": {
    "deletable": true,
    "editable": true
   },
   "source": [
    "Оценим функцию мощности используемого критерия:"
   ]
  },
  {
   "cell_type": "code",
   "execution_count": 123,
   "metadata": {
    "ExecuteTime": {
     "end_time": "2017-03-24T22:18:03.577935",
     "start_time": "2017-03-24T22:17:04.189449"
    },
    "collapsed": false,
    "deletable": true,
    "editable": true
   },
   "outputs": [
    {
     "name": "stdout",
     "output_type": "stream",
     "text": [
      "Mean\t|\tProbability to reject H0\n",
      "1.0 \t|\t 1.0\n",
      "1.5 \t|\t 1.0\n",
      "2.0 \t|\t 0.9997\n",
      "2.5 \t|\t 0.865\n",
      "3.0 \t|\t 0.1468\n",
      "3.5 \t|\t 0.8631\n",
      "4.0 \t|\t 0.9995\n",
      "4.5 \t|\t 1.0\n",
      "5.0 \t|\t 1.0\n"
     ]
    },
    {
     "data": {
      "image/png": "[encoded data removed]",
      "text/plain": [
       "<matplotlib.figure.Figure at 0x10b091588>"
      ]
     },
     "metadata": {},
     "output_type": "display_data"
    }
   ],
   "source": [
    "power_function(10000,50,4,3,0.05)"
   ]
  },
  {
   "cell_type": "code",
   "execution_count": null,
   "metadata": {
    "collapsed": true
   },
   "outputs": [],
   "source": []
  }
 ],
 "metadata": {
  "kernelspec": {
   "display_name": "Python 3",
   "language": "python",
   "name": "python3"
  },
  "language_info": {
   "codemirror_mode": {
    "name": "ipython",
    "version": 3
   },
   "file_extension": ".py",
   "mimetype": "text/x-python",
   "name": "python",
   "nbconvert_exporter": "python",
   "pygments_lexer": "ipython3",
   "version": "3.6.0"
  }
 },
 "nbformat": 4,
 "nbformat_minor": 2
}
