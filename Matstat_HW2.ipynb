{
 "cells": [
  {
   "cell_type": "markdown",
   "metadata": {
    "deletable": true,
    "editable": true
   },
   "source": [
    "# Задача 2"
   ]
  },
  {
   "cell_type": "code",
   "execution_count": 5,
   "metadata": {
    "ExecuteTime": {
     "end_time": "2017-03-28T13:23:24.228137",
     "start_time": "2017-03-28T13:23:24.117959"
    },
    "code_folding": [
     6
    ],
    "collapsed": false,
    "deletable": true,
    "editable": true
   },
   "outputs": [],
   "source": [
    "%matplotlib inline\n",
    "import scipy.stats as st\n",
    "import numpy as np\n",
    "import matplotlib.pyplot as plt\n",
    "import collections\n",
    "import math\n",
    "\n",
    "\n",
    "def sample_mean(ls):\n",
    "    return sum(ls) / len(ls)\n",
    "\n",
    "\n",
    "def sample_varience_unbiased(ls):\n",
    "    mean = sample_mean(ls)\n",
    "    i = 0\n",
    "    for e in ls:\n",
    "        i += (mean - e)**2\n",
    "    return i / (len(ls) - 1)\n",
    "\n",
    "\n",
    "def print_iterable(iterable, in_one_line):\n",
    "    if not isinstance(iterable, collections.Iterable):\n",
    "        raise TypeError(\"Argument should be iterable\")\n",
    "    iter = 0\n",
    "    for i in iterable:\n",
    "        iter += 1\n",
    "        print(i, '\\t', end='')\n",
    "        if iter % in_one_line == 0:\n",
    "            print()\n",
    "\n",
    "# Generates needed selection of random variable X (X - param ~ t4)\n",
    "\n",
    "\n",
    "def gen_selection(freedom_degr, param, size):\n",
    "    sel = st.t.rvs(df=freedom_degr, size=size)\n",
    "    sel = [i + param for i in sel]\n",
    "    return sel\n",
    "\n",
    "# Tests provided selection's sample mean with population mean at the\n",
    "# significance level\n",
    "\n",
    "\n",
    "def test_mean(sel, pop_mean, level):\n",
    "    n = len(sel)\n",
    "    s_mean = sample_mean(sel)\n",
    "    sigma = sample_varience_unbiased(sel)\n",
    "    left_border = st.t.ppf(level / 2, n - 1)\n",
    "    right_border = st.t.ppf(1 - level / 2, n - 1)\n",
    "    statistic = (s_mean - pop_mean) * (n**(1 / 2)) / sigma\n",
    "    return left_border <= statistic <= right_border\n",
    "\n",
    "# Computes probability of type I error\n",
    "\n",
    "\n",
    "def type_1_error(repeats, sel_size, freedom_degr, param, hyp_mean, level):\n",
    "    errors = 0\n",
    "    for i in range(repeats):\n",
    "        if not test_mean(gen_selection(freedom_degr, param, sel_size), hyp_mean, level):\n",
    "            errors += 1\n",
    "    return errors / repeats\n",
    "\n",
    "\n",
    "def power_function(repeats, sel_size, freedom_degr, hyp_mean, level):\n",
    "    print(\"Mean\\t|\\tProbability to reject H0\")\n",
    "    params = []\n",
    "    probs = []\n",
    "    for i in range(10, 51, 5):\n",
    "        param = i / 10\n",
    "        prob = type_1_error(repeats, sel_size, freedom_degr,\n",
    "                            param, hyp_mean, level)\n",
    "        params.append(param)\n",
    "        probs.append(prob)\n",
    "        print(param, \"\\t|\\t\", prob)\n",
    "    plt.plot(params, probs)\n",
    "    plt.show()"
   ]
  },
  {
   "cell_type": "markdown",
   "metadata": {
    "deletable": true,
    "editable": true
   },
   "source": [
    "# Выборка объёма 8:"
   ]
  },
  {
   "cell_type": "code",
   "execution_count": 6,
   "metadata": {
    "ExecuteTime": {
     "end_time": "2017-03-28T13:23:25.361211",
     "start_time": "2017-03-28T13:23:25.355240"
    },
    "collapsed": false,
    "deletable": true,
    "editable": true
   },
   "outputs": [],
   "source": [
    "estimate = 3\n",
    "freedom_d = 4\n",
    "selection8 = gen_selection(freedom_d, estimate, 8)"
   ]
  },
  {
   "cell_type": "code",
   "execution_count": 7,
   "metadata": {
    "ExecuteTime": {
     "end_time": "2017-03-28T13:23:25.762177",
     "start_time": "2017-03-28T13:23:25.754680"
    },
    "collapsed": false,
    "deletable": true,
    "editable": true
   },
   "outputs": [
    {
     "name": "stdout",
     "output_type": "stream",
     "text": [
      "2.04207894929 \t2.74571137873 \t4.62935018371 \t2.1065190042 \t\n",
      "0.00844580379066 \t3.14480125791 \t2.81456631155 \t1.9411241558 \t\n"
     ]
    }
   ],
   "source": [
    "print_iterable(selection8, 4)"
   ]
  },
  {
   "cell_type": "markdown",
   "metadata": {
    "collapsed": true,
    "deletable": true,
    "editable": true
   },
   "source": [
    "Проверка на уровне значимости 5% гипотезы о равенстве мат. ожидания трём:"
   ]
  },
  {
   "cell_type": "code",
   "execution_count": 8,
   "metadata": {
    "ExecuteTime": {
     "end_time": "2017-03-28T13:23:28.280951",
     "start_time": "2017-03-28T13:23:28.272741"
    },
    "collapsed": false,
    "deletable": true,
    "editable": true
   },
   "outputs": [
    {
     "name": "stdout",
     "output_type": "stream",
     "text": [
      "True\n"
     ]
    }
   ],
   "source": [
    "print(test_mean(selection8, 3, 0.05))"
   ]
  },
  {
   "cell_type": "markdown",
   "metadata": {
    "deletable": true,
    "editable": true
   },
   "source": [
    "Повторим эксперимент 10 000 раз и оценим вероятность ошибки первого рода: "
   ]
  },
  {
   "cell_type": "code",
   "execution_count": 9,
   "metadata": {
    "ExecuteTime": {
     "end_time": "2017-03-28T13:23:35.672670",
     "start_time": "2017-03-28T13:23:30.717080"
    },
    "collapsed": false,
    "deletable": true,
    "editable": true
   },
   "outputs": [
    {
     "name": "stdout",
     "output_type": "stream",
     "text": [
      "Probability of type I error is:  0.0694\n"
     ]
    }
   ],
   "source": [
    "print(\"Probability of type I error is: \",\n",
    "      type_1_error(10000, 8, 4, 3, 3, 0.05))"
   ]
  },
  {
   "cell_type": "markdown",
   "metadata": {
    "deletable": true,
    "editable": true
   },
   "source": [
    "Оценим функцию мощности используемого критерия:"
   ]
  },
  {
   "cell_type": "code",
   "execution_count": 10,
   "metadata": {
    "ExecuteTime": {
     "end_time": "2017-03-28T13:24:21.163509",
     "start_time": "2017-03-28T13:23:42.968401"
    },
    "collapsed": false,
    "deletable": true,
    "editable": true
   },
   "outputs": [
    {
     "name": "stdout",
     "output_type": "stream",
     "text": [
      "Mean\t|\tProbability to reject H0\n",
      "1.0 \t|\t 0.7417\n",
      "1.5 \t|\t 0.5985\n",
      "2.0 \t|\t 0.4018\n",
      "2.5 \t|\t 0.1752\n",
      "3.0 \t|\t 0.0709\n",
      "3.5 \t|\t 0.1727\n",
      "4.0 \t|\t 0.3983\n",
      "4.5 \t|\t 0.604\n",
      "5.0 \t|\t 0.738\n"
     ]
    },
    {
     "data": {
      "image/png": "[encoded data removed]",
      "text/plain": [
       "<matplotlib.figure.Figure at 0x10b486748>"
      ]
     },
     "metadata": {},
     "output_type": "display_data"
    }
   ],
   "source": [
    "power_function(10000,8,4,3,0.05)"
   ]
  },
  {
   "cell_type": "markdown",
   "metadata": {
    "ExecuteTime": {
     "end_time": "2017-02-22T23:30:40.075354",
     "start_time": "2017-02-22T23:30:40.070882"
    },
    "deletable": true,
    "editable": true
   },
   "source": [
    "# Выборка объёма 50:"
   ]
  },
  {
   "cell_type": "code",
   "execution_count": 11,
   "metadata": {
    "ExecuteTime": {
     "end_time": "2017-03-28T13:24:21.195148",
     "start_time": "2017-03-28T13:24:21.165150"
    },
    "collapsed": false,
    "deletable": true,
    "editable": true
   },
   "outputs": [
    {
     "name": "stdout",
     "output_type": "stream",
     "text": [
      "0.939233701003 \t2.47244598128 \t4.41157289743 \t5.31399709172 \t3.28372431221 \t\n",
      "3.74032527977 \t1.17380314725 \t3.61373613512 \t3.31570783733 \t0.452521116248 \t\n",
      "4.72337293573 \t1.64245277619 \t3.72987150499 \t3.06794684725 \t3.07409179706 \t\n",
      "2.1386754358 \t2.8381759569 \t0.762475723409 \t2.69962012602 \t2.00829844275 \t\n",
      "1.13056347741 \t4.01009349845 \t2.817626697 \t5.18980980009 \t3.62914498212 \t\n",
      "3.33029751163 \t1.32880822845 \t1.46834997696 \t3.62673671041 \t3.67000355926 \t\n",
      "2.36466769495 \t2.89521430854 \t3.70968745153 \t3.61758172106 \t6.40752998293 \t\n",
      "3.11928486309 \t3.25666733769 \t3.03641067677 \t2.84092626615 \t3.20023515296 \t\n",
      "3.02673458399 \t3.89414868727 \t1.65836601734 \t3.5401348837 \t1.63270155209 \t\n",
      "1.81817328757 \t3.91759304357 \t5.23536697648 \t3.33801097891 \t3.11995604361 \t\n"
     ]
    }
   ],
   "source": [
    "estimate = 3\n",
    "freedom_d = 4\n",
    "selection50 = gen_selection(freedom_d, estimate, 50)\n",
    "print_iterable(selection50, 5)"
   ]
  },
  {
   "cell_type": "markdown",
   "metadata": {
    "collapsed": true,
    "deletable": true,
    "editable": true
   },
   "source": [
    "Проверка на уровне значимости 5% гипотезы о равенстве мат. ожидания трём:"
   ]
  },
  {
   "cell_type": "code",
   "execution_count": 12,
   "metadata": {
    "ExecuteTime": {
     "end_time": "2017-03-28T13:24:21.214120",
     "start_time": "2017-03-28T13:24:21.198927"
    },
    "collapsed": false,
    "deletable": true,
    "editable": true
   },
   "outputs": [
    {
     "name": "stdout",
     "output_type": "stream",
     "text": [
      "True\n"
     ]
    }
   ],
   "source": [
    "print(test_mean(selection50, 3, 0.05))"
   ]
  },
  {
   "cell_type": "markdown",
   "metadata": {
    "deletable": true,
    "editable": true
   },
   "source": [
    "Повторим эксперимент 10 000 раз и оценим вероятность ошибки первого рода: "
   ]
  },
  {
   "cell_type": "code",
   "execution_count": 13,
   "metadata": {
    "ExecuteTime": {
     "end_time": "2017-03-28T13:24:26.534983",
     "start_time": "2017-03-28T13:24:21.217316"
    },
    "collapsed": false,
    "deletable": true,
    "editable": true
   },
   "outputs": [
    {
     "name": "stdout",
     "output_type": "stream",
     "text": [
      "Probability of type I error is:  0.0174\n"
     ]
    }
   ],
   "source": [
    "print(\"Probability of type I error is: \",\n",
    "      type_1_error(10000, 50, 4, 3, 3, 0.05))"
   ]
  },
  {
   "cell_type": "markdown",
   "metadata": {
    "deletable": true,
    "editable": true
   },
   "source": [
    "Оценим функцию мощности используемого критерия:"
   ]
  },
  {
   "cell_type": "code",
   "execution_count": 14,
   "metadata": {
    "ExecuteTime": {
     "end_time": "2017-03-28T13:25:07.092319",
     "start_time": "2017-03-28T13:24:26.537372"
    },
    "collapsed": false,
    "deletable": true,
    "editable": true
   },
   "outputs": [
    {
     "name": "stdout",
     "output_type": "stream",
     "text": [
      "Mean\t|\tProbability to reject H0\n",
      "1.0 \t|\t 0.9942\n",
      "1.5 \t|\t 0.986\n",
      "2.0 \t|\t 0.9268\n",
      "2.5 \t|\t 0.47\n",
      "3.0 \t|\t 0.0163\n",
      "3.5 \t|\t 0.4612\n",
      "4.0 \t|\t 0.921\n",
      "4.5 \t|\t 0.9848\n",
      "5.0 \t|\t 0.9943\n"
     ]
    },
    {
     "data": {
      "image/png": "[encoded data removed]",
      "text/plain": [
       "<matplotlib.figure.Figure at 0x10e424828>"
      ]
     },
     "metadata": {},
     "output_type": "display_data"
    }
   ],
   "source": [
    "power_function(10000,50,4,3,0.05)"
   ]
  },
  {
   "cell_type": "code",
   "execution_count": null,
   "metadata": {
    "collapsed": true,
    "deletable": true,
    "editable": true
   },
   "outputs": [],
   "source": []
  }
 ],
 "metadata": {
  "kernelspec": {
   "display_name": "Python 3",
   "language": "python",
   "name": "python3"
  },
  "language_info": {
   "codemirror_mode": {
    "name": "ipython",
    "version": 3
   },
   "file_extension": ".py",
   "mimetype": "text/x-python",
   "name": "python",
   "nbconvert_exporter": "python",
   "pygments_lexer": "ipython3",
   "version": "3.6.0"
  }
 },
 "nbformat": 4,
 "nbformat_minor": 2
}
