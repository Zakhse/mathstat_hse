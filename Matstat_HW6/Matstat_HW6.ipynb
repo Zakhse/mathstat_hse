{
 "cells": [
  {
   "cell_type": "code",
   "execution_count": 112,
   "metadata": {
    "ExecuteTime": {
     "end_time": "2017-06-05T17:59:50.726045Z",
     "start_time": "2017-06-05T20:59:50.718729+03:00"
    },
    "collapsed": false
   },
   "outputs": [],
   "source": [
    "import matplotlib.pyplot as plt\n",
    "import numpy as np\n",
    "import pandas as pd\n",
    "import statsmodels.formula.api as smf\n",
    "import statsmodels.api as sm"
   ]
  },
  {
   "cell_type": "code",
   "execution_count": 113,
   "metadata": {
    "ExecuteTime": {
     "end_time": "2017-06-05T17:59:51.975754Z",
     "start_time": "2017-06-05T20:59:51.724787+03:00"
    },
    "collapsed": false
   },
   "outputs": [],
   "source": [
    "data = pd.read_csv(\"data.csv\", usecols=[\n",
    "                   'class1_v10', 'class2_v10', 'class3_v10', 'sex_v10', 'survived_v10'])\n",
    "data.rename(inplace=True, columns={'class1_v10': 'class1',\n",
    "                                   'class2_v10': 'class2',\n",
    "                                   'class3_v10': 'class3',\n",
    "                                   'sex_v10': 'sex',\n",
    "                                   'survived_v10': 'survived'})\n",
    "data = data[pd.notnull(data['survived'])]\n",
    "data['intercept'] = 1"
   ]
  },
  {
   "cell_type": "code",
   "execution_count": 122,
   "metadata": {
    "ExecuteTime": {
     "end_time": "2017-06-05T18:16:43.559139Z",
     "start_time": "2017-06-05T21:16:43.514134+03:00"
    },
    "collapsed": false
   },
   "outputs": [
    {
     "name": "stdout",
     "output_type": "stream",
     "text": [
      "Warning: Maximum number of iterations has been exceeded.\n",
      "         Current function value: 0.468990\n",
      "         Iterations: 35\n",
      "                           Logit Regression Results                           \n",
      "==============================================================================\n",
      "Dep. Variable:               survived   No. Observations:                 1131\n",
      "Model:                          Logit   Df Residuals:                     1127\n",
      "Method:                           MLE   Df Model:                            3\n",
      "Date:                Mon, 05 Jun 2017   Pseudo R-squ.:                  0.2849\n",
      "Time:                        21:16:43   Log-Likelihood:                -530.43\n",
      "converged:                      False   LL-Null:                       -741.76\n",
      "                                        LLR p-value:                 2.737e-91\n",
      "==============================================================================\n",
      "                 coef    std err          z      P>|z|      [0.025      0.975]\n",
      "------------------------------------------------------------------------------\n",
      "intercept      0.8495   5.34e+06   1.59e-07      1.000   -1.05e+07    1.05e+07\n",
      "class1         1.2099   5.34e+06   2.27e-07      1.000   -1.05e+07    1.05e+07\n",
      "class2         0.0965   5.34e+06   1.81e-08      1.000   -1.05e+07    1.05e+07\n",
      "class3        -0.4569   5.34e+06  -8.56e-08      1.000   -1.05e+07    1.05e+07\n",
      "sex           -2.5395      0.159    -15.978      0.000      -2.851      -2.228\n",
      "==============================================================================\n"
     ]
    },
    {
     "name": "stderr",
     "output_type": "stream",
     "text": [
      "/usr/local/lib/python3.6/site-packages/statsmodels/base/model.py:496: ConvergenceWarning: Maximum Likelihood optimization failed to converge. Check mle_retvals\n",
      "  \"Check mle_retvals\", ConvergenceWarning)\n"
     ]
    }
   ],
   "source": [
    "regressors = data.loc[:, ['intercept', 'class1', 'class2', 'class3', 'sex']]\n",
    "results = data.loc[:, ['survived']]\n",
    "logit_model = sm.Logit(results, regressors)\n",
    "logit_result = logit_model.fit()\n",
    "print(logit_result.summary())"
   ]
  },
  {
   "cell_type": "code",
   "execution_count": 120,
   "metadata": {
    "ExecuteTime": {
     "end_time": "2017-06-05T18:15:31.745641Z",
     "start_time": "2017-06-05T21:15:31.736882+03:00"
    },
    "collapsed": false
   },
   "outputs": [
    {
     "name": "stdout",
     "output_type": "stream",
     "text": [
      "{'fopt': 0.46898991014936336, 'iterations': 1000, 'score': array([ -3.26391826e-17,   7.01865131e-18,   8.24568825e-18,\n",
      "        -5.69345141e-18,  -2.12522798e-17]), 'Hessian': array([[-0.1505345 , -0.04528981, -0.0341135 , -0.0711312 , -0.08804996],\n",
      "       [-0.04528981, -0.04528981, -0.        , -0.        , -0.03340471],\n",
      "       [-0.0341135 , -0.        , -0.0341135 , -0.        , -0.01861615],\n",
      "       [-0.0711312 , -0.        , -0.        , -0.0711312 , -0.0360291 ],\n",
      "       [-0.08804996, -0.03340471, -0.01861615, -0.0360291 , -0.08804996]]), 'warnflag': 1, 'converged': False}\n"
     ]
    }
   ],
   "source": [
    "print (logit_result.mle_retvals)"
   ]
  },
  {
   "cell_type": "code",
   "execution_count": null,
   "metadata": {
    "collapsed": true
   },
   "outputs": [],
   "source": []
  },
  {
   "cell_type": "code",
   "execution_count": null,
   "metadata": {
    "collapsed": true
   },
   "outputs": [],
   "source": []
  },
  {
   "cell_type": "code",
   "execution_count": null,
   "metadata": {
    "collapsed": true,
    "deletable": true,
    "editable": true
   },
   "outputs": [],
   "source": []
  }
 ],
 "metadata": {
  "kernelspec": {
   "display_name": "Python 3",
   "language": "python",
   "name": "python3"
  },
  "language_info": {
   "codemirror_mode": {
    "name": "ipython",
    "version": 3
   },
   "file_extension": ".py",
   "mimetype": "text/x-python",
   "name": "python",
   "nbconvert_exporter": "python",
   "pygments_lexer": "ipython3",
   "version": "3.6.1"
  }
 },
 "nbformat": 4,
 "nbformat_minor": 2
}
