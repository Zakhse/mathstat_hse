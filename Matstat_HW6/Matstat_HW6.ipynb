{
 "cells": [
  {
   "cell_type": "code",
   "execution_count": 239,
   "metadata": {
    "ExecuteTime": {
     "end_time": "2017-06-05T22:53:22.910820Z",
     "start_time": "2017-06-06T01:53:22.894641+03:00"
    },
    "collapsed": false,
    "deletable": true,
    "editable": true
   },
   "outputs": [],
   "source": [
    "import matplotlib.pyplot as plt\n",
    "import numpy as np\n",
    "import pandas as pd\n",
    "import statsmodels.formula.api as smf\n",
    "import statsmodels.api as sm\n",
    "import scipy.stats as st\n",
    "\n",
    "\n",
    "def ess(estimate_v, sample_v):\n",
    "    sample_mean = np.mean(sample_v)\n",
    "    return sum((estimate_v[i] - sample_mean)**2 for i in range(len(estimate_v)))\n",
    "\n",
    "\n",
    "def rss(estimate_v, sample_v):\n",
    "    return sum((estimate_v[i] - sample_v[i])**2 for i in range(len(estimate_v)))\n",
    "\n",
    "\n",
    "def tss(sample_v):\n",
    "    sample_mean = np.mean(sample_v)\n",
    "    return sum((sample_v[i] - sample_mean)**2 for i in range(len(sample_v)))"
   ]
  },
  {
   "cell_type": "code",
   "execution_count": 197,
   "metadata": {
    "ExecuteTime": {
     "end_time": "2017-06-05T19:46:52.864474Z",
     "start_time": "2017-06-05T22:46:52.698921+03:00"
    },
    "collapsed": false,
    "deletable": true,
    "editable": true
   },
   "outputs": [],
   "source": [
    "data = pd.read_csv(\"data.csv\", usecols=[\n",
    "                   'class1_v10', 'class2_v10', 'class3_v10', 'sex_v10', 'survived_v10'])\n",
    "data.rename(inplace=True, columns={'class1_v10': 'class1',\n",
    "                                   'class2_v10': 'class2',\n",
    "                                   'class3_v10': 'class3',\n",
    "                                   'sex_v10': 'sex',\n",
    "                                   'survived_v10': 'survived'})\n",
    "data = data[pd.notnull(data['survived'])]\n",
    "data['intercept'] = 1"
   ]
  },
  {
   "cell_type": "markdown",
   "metadata": {
    "deletable": true,
    "editable": true
   },
   "source": [
    "Имеется выборка из взрослых пассажиров титаника, у каждого следующие характеристики:  \n",
    "survived - выжил ли пассажир (1, если да, иначе 0)  \n",
    "sex - пол (1 для мужчин, 0 для женщин)  \n",
    "class1 - 1 для пассажиров 1 класса, иначе 0  \n",
    "class2 - 1 для пассажиров 2 класса, иначе 0  \n",
    "class3 - 1 для пассажиров 3 класса, иначе 0  \n",
    "\n",
    "# Часть I\n",
    "### Оценим модель логит-регрессии для вероятности выжить в зависимости от пола и класса:  \n",
    "$\\frac{P(survived=1)}{P(survived=0)}=exp(\\beta_1 + \\beta2\\cdot sex + \\beta_3\\cdot class1+\\beta_4\\cdot class2)$"
   ]
  },
  {
   "cell_type": "code",
   "execution_count": 330,
   "metadata": {
    "ExecuteTime": {
     "end_time": "2017-06-06T10:25:45.161014Z",
     "start_time": "2017-06-06T13:25:45.117715+03:00"
    },
    "collapsed": false,
    "deletable": true,
    "editable": true
   },
   "outputs": [
    {
     "name": "stdout",
     "output_type": "stream",
     "text": [
      "Optimization terminated successfully.\n",
      "         Current function value: 0.468990\n",
      "         Iterations 6\n"
     ]
    },
    {
     "data": {
      "text/html": [
       "<table class=\"simpletable\">\n",
       "<caption>Logit Regression Results</caption>\n",
       "<tr>\n",
       "  <th>Dep. Variable:</th>     <td>survived</td>     <th>  No. Observations:  </th>  <td>  1131</td>  \n",
       "</tr>\n",
       "<tr>\n",
       "  <th>Model:</th>               <td>Logit</td>      <th>  Df Residuals:      </th>  <td>  1127</td>  \n",
       "</tr>\n",
       "<tr>\n",
       "  <th>Method:</th>               <td>MLE</td>       <th>  Df Model:          </th>  <td>     3</td>  \n",
       "</tr>\n",
       "<tr>\n",
       "  <th>Date:</th>          <td>Tue, 06 Jun 2017</td> <th>  Pseudo R-squ.:     </th>  <td>0.2849</td>  \n",
       "</tr>\n",
       "<tr>\n",
       "  <th>Time:</th>              <td>13:25:45</td>     <th>  Log-Likelihood:    </th> <td> -530.43</td> \n",
       "</tr>\n",
       "<tr>\n",
       "  <th>converged:</th>           <td>True</td>       <th>  LL-Null:           </th> <td> -741.76</td> \n",
       "</tr>\n",
       "<tr>\n",
       "  <th> </th>                      <td> </td>        <th>  LLR p-value:       </th> <td>2.737e-91</td>\n",
       "</tr>\n",
       "</table>\n",
       "<table class=\"simpletable\">\n",
       "<tr>\n",
       "      <td></td>         <th>coef</th>     <th>std err</th>      <th>z</th>      <th>P>|z|</th>  <th>[0.025</th>    <th>0.975]</th>  \n",
       "</tr>\n",
       "<tr>\n",
       "  <th>Intercept</th> <td>    0.3926</td> <td>    0.138</td> <td>    2.855</td> <td> 0.004</td> <td>    0.123</td> <td>    0.662</td>\n",
       "</tr>\n",
       "<tr>\n",
       "  <th>sex</th>       <td>   -2.5395</td> <td>    0.159</td> <td>  -15.978</td> <td> 0.000</td> <td>   -2.851</td> <td>   -2.228</td>\n",
       "</tr>\n",
       "<tr>\n",
       "  <th>class1</th>    <td>    1.6668</td> <td>    0.182</td> <td>    9.134</td> <td> 0.000</td> <td>    1.309</td> <td>    2.024</td>\n",
       "</tr>\n",
       "<tr>\n",
       "  <th>class2</th>    <td>    0.5534</td> <td>    0.196</td> <td>    2.824</td> <td> 0.005</td> <td>    0.169</td> <td>    0.937</td>\n",
       "</tr>\n",
       "</table>"
      ],
      "text/plain": [
       "<class 'statsmodels.iolib.summary.Summary'>\n",
       "\"\"\"\n",
       "                           Logit Regression Results                           \n",
       "==============================================================================\n",
       "Dep. Variable:               survived   No. Observations:                 1131\n",
       "Model:                          Logit   Df Residuals:                     1127\n",
       "Method:                           MLE   Df Model:                            3\n",
       "Date:                Tue, 06 Jun 2017   Pseudo R-squ.:                  0.2849\n",
       "Time:                        13:25:45   Log-Likelihood:                -530.43\n",
       "converged:                       True   LL-Null:                       -741.76\n",
       "                                        LLR p-value:                 2.737e-91\n",
       "==============================================================================\n",
       "                 coef    std err          z      P>|z|      [0.025      0.975]\n",
       "------------------------------------------------------------------------------\n",
       "Intercept      0.3926      0.138      2.855      0.004       0.123       0.662\n",
       "sex           -2.5395      0.159    -15.978      0.000      -2.851      -2.228\n",
       "class1         1.6668      0.182      9.134      0.000       1.309       2.024\n",
       "class2         0.5534      0.196      2.824      0.005       0.169       0.937\n",
       "==============================================================================\n",
       "\"\"\""
      ]
     },
     "execution_count": 330,
     "metadata": {},
     "output_type": "execute_result"
    }
   ],
   "source": [
    "# Третий регрессор class3 не рассматривается, т.к. между\n",
    "# class1, class2 и class3 существует мультиколлинеарность.\n",
    "logit_model = smf.logit(formula=\"survived ~ sex + class1 + class2\", data=data)\n",
    "logit_result = logit_model.fit()\n",
    "logit_fitted_list = [1 if f > 0 else 0 for f in logit_result.fittedvalues]\n",
    "logit_result.summary()"
   ]
  },
  {
   "cell_type": "markdown",
   "metadata": {
    "ExecuteTime": {
     "end_time": "2017-06-06T09:14:28.913866Z",
     "start_time": "2017-06-06T12:14:28.906599+03:00"
    },
    "collapsed": true,
    "deletable": true,
    "editable": true
   },
   "source": [
    "Проверим значимость модели регресси в целом.  \n",
    "$H_0: \\beta_2=\\beta_3=\\beta_4=0$  \n",
    "Для этого ипользуем тест отношения правдоподобия:  \n",
    "$LR = -2\\log(\\frac{L\\:|\\: H_0}{L\\:|\\:H_A}) \\sim \\chi^2_k$, где $L$ — значение функции правдоподобия модели  \n",
    "$L = \\prod_{i=1}^{n}p^{Y_i}(1-p)^{1-Y_i} = p^{\\sum_{i=1}^nY_i}(1-p)^{n-\\sum_{i=1}^nY_i}$"
   ]
  },
  {
   "cell_type": "code",
   "execution_count": 307,
   "metadata": {
    "ExecuteTime": {
     "end_time": "2017-06-06T10:04:16.083043Z",
     "start_time": "2017-06-06T13:04:16.072219+03:00"
    },
    "collapsed": false,
    "deletable": true,
    "editable": true
   },
   "outputs": [
    {
     "name": "stdout",
     "output_type": "stream",
     "text": [
      "LR = 422.65656195\n",
      "LR_crit = 9.48772903678\n"
     ]
    }
   ],
   "source": [
    "n = len(data['survived']) # количество элементов в выборке\n",
    "k = 4 # количество оцениваемых коэффициентов (включая свободный)\n",
    "LR = -2*(logit_result.llnull - logit_result.llf)\n",
    "LR_crit = st.chi2.ppf(0.95, k)\n",
    "print(\"LR =\", LR)\n",
    "print(\"LR_crit =\", LR_crit)"
   ]
  },
  {
   "cell_type": "markdown",
   "metadata": {
    "ExecuteTime": {
     "end_time": "2017-06-06T09:12:05.289001Z",
     "start_time": "2017-06-06T12:12:05.282157+03:00"
    },
    "collapsed": false,
    "deletable": true,
    "editable": true
   },
   "source": [
    "$LR > LR_{crit}$, значит, отвергаем нулевую гипотезу.\n",
    "$\\:$  \n",
    "$\\:$  \n",
    "$\\:$  \n",
    "### Далее оценим модель пробит-регрессии:  \n",
    "$P(survived=1) = Ф(\\beta_1 + \\beta_2\\cdot sex + \\beta_3\\cdot class1+\\beta_4\\cdot class2)$,  \n",
    "где Ф - функция нормального распределения  \n",
    "$Ф^{-1}(P(survived=1)) = \\beta_1 + \\beta_2\\cdot sex + \\beta_3\\cdot class1+\\beta_4\\cdot class2$"
   ]
  },
  {
   "cell_type": "code",
   "execution_count": 329,
   "metadata": {
    "ExecuteTime": {
     "end_time": "2017-06-06T10:25:39.733519Z",
     "start_time": "2017-06-06T13:25:39.694884+03:00"
    },
    "collapsed": false,
    "deletable": true,
    "editable": true
   },
   "outputs": [
    {
     "name": "stdout",
     "output_type": "stream",
     "text": [
      "Optimization terminated successfully.\n",
      "         Current function value: 0.469734\n",
      "         Iterations 5\n"
     ]
    },
    {
     "data": {
      "text/html": [
       "<table class=\"simpletable\">\n",
       "<caption>Probit Regression Results</caption>\n",
       "<tr>\n",
       "  <th>Dep. Variable:</th>     <td>survived</td>     <th>  No. Observations:  </th>  <td>  1131</td>  \n",
       "</tr>\n",
       "<tr>\n",
       "  <th>Model:</th>              <td>Probit</td>      <th>  Df Residuals:      </th>  <td>  1127</td>  \n",
       "</tr>\n",
       "<tr>\n",
       "  <th>Method:</th>               <td>MLE</td>       <th>  Df Model:          </th>  <td>     3</td>  \n",
       "</tr>\n",
       "<tr>\n",
       "  <th>Date:</th>          <td>Tue, 06 Jun 2017</td> <th>  Pseudo R-squ.:     </th>  <td>0.2838</td>  \n",
       "</tr>\n",
       "<tr>\n",
       "  <th>Time:</th>              <td>13:25:39</td>     <th>  Log-Likelihood:    </th> <td> -531.27</td> \n",
       "</tr>\n",
       "<tr>\n",
       "  <th>converged:</th>           <td>True</td>       <th>  LL-Null:           </th> <td> -741.76</td> \n",
       "</tr>\n",
       "<tr>\n",
       "  <th> </th>                      <td> </td>        <th>  LLR p-value:       </th> <td>6.338e-91</td>\n",
       "</tr>\n",
       "</table>\n",
       "<table class=\"simpletable\">\n",
       "<tr>\n",
       "      <td></td>         <th>coef</th>     <th>std err</th>      <th>z</th>      <th>P>|z|</th>  <th>[0.025</th>    <th>0.975]</th>  \n",
       "</tr>\n",
       "<tr>\n",
       "  <th>Intercept</th> <td>    0.2835</td> <td>    0.082</td> <td>    3.439</td> <td> 0.001</td> <td>    0.122</td> <td>    0.445</td>\n",
       "</tr>\n",
       "<tr>\n",
       "  <th>sex</th>       <td>   -1.5190</td> <td>    0.091</td> <td>  -16.689</td> <td> 0.000</td> <td>   -1.697</td> <td>   -1.341</td>\n",
       "</tr>\n",
       "<tr>\n",
       "  <th>class1</th>    <td>    0.9567</td> <td>    0.104</td> <td>    9.167</td> <td> 0.000</td> <td>    0.752</td> <td>    1.161</td>\n",
       "</tr>\n",
       "<tr>\n",
       "  <th>class2</th>    <td>    0.2738</td> <td>    0.113</td> <td>    2.418</td> <td> 0.016</td> <td>    0.052</td> <td>    0.496</td>\n",
       "</tr>\n",
       "</table>"
      ],
      "text/plain": [
       "<class 'statsmodels.iolib.summary.Summary'>\n",
       "\"\"\"\n",
       "                          Probit Regression Results                           \n",
       "==============================================================================\n",
       "Dep. Variable:               survived   No. Observations:                 1131\n",
       "Model:                         Probit   Df Residuals:                     1127\n",
       "Method:                           MLE   Df Model:                            3\n",
       "Date:                Tue, 06 Jun 2017   Pseudo R-squ.:                  0.2838\n",
       "Time:                        13:25:39   Log-Likelihood:                -531.27\n",
       "converged:                       True   LL-Null:                       -741.76\n",
       "                                        LLR p-value:                 6.338e-91\n",
       "==============================================================================\n",
       "                 coef    std err          z      P>|z|      [0.025      0.975]\n",
       "------------------------------------------------------------------------------\n",
       "Intercept      0.2835      0.082      3.439      0.001       0.122       0.445\n",
       "sex           -1.5190      0.091    -16.689      0.000      -1.697      -1.341\n",
       "class1         0.9567      0.104      9.167      0.000       0.752       1.161\n",
       "class2         0.2738      0.113      2.418      0.016       0.052       0.496\n",
       "==============================================================================\n",
       "\"\"\""
      ]
     },
     "execution_count": 329,
     "metadata": {},
     "output_type": "execute_result"
    }
   ],
   "source": [
    "probit_model = smf.probit(formula=\"survived ~ sex + class1 + class2\", data=data)\n",
    "probit_result = probit_model.fit()\n",
    "probit_fitted_list = [1 if f > 0 else 0 for f in probit_result.fittedvalues]\n",
    "probit_result.summary()"
   ]
  },
  {
   "cell_type": "markdown",
   "metadata": {
    "ExecuteTime": {
     "end_time": "2017-06-06T10:23:54.746704Z",
     "start_time": "2017-06-06T13:23:54.732069+03:00"
    },
    "collapsed": true,
    "deletable": true,
    "editable": true
   },
   "source": [
    "### Оценим линейную модель:\n",
    "$P(survived=1) = \\beta_1 + \\beta_2\\cdot sex + \\beta_3\\cdot class1+\\beta_4\\cdot class2$"
   ]
  },
  {
   "cell_type": "code",
   "execution_count": 336,
   "metadata": {
    "ExecuteTime": {
     "end_time": "2017-06-06T10:51:07.484928Z",
     "start_time": "2017-06-06T13:51:07.444850+03:00"
    },
    "collapsed": false
   },
   "outputs": [
    {
     "data": {
      "text/html": [
       "<table class=\"simpletable\">\n",
       "<caption>OLS Regression Results</caption>\n",
       "<tr>\n",
       "  <th>Dep. Variable:</th>        <td>survived</td>     <th>  R-squared:         </th> <td>   0.349</td> \n",
       "</tr>\n",
       "<tr>\n",
       "  <th>Model:</th>                   <td>OLS</td>       <th>  Adj. R-squared:    </th> <td>   0.348</td> \n",
       "</tr>\n",
       "<tr>\n",
       "  <th>Method:</th>             <td>Least Squares</td>  <th>  F-statistic:       </th> <td>   201.8</td> \n",
       "</tr>\n",
       "<tr>\n",
       "  <th>Date:</th>             <td>Tue, 06 Jun 2017</td> <th>  Prob (F-statistic):</th> <td>9.59e-105</td>\n",
       "</tr>\n",
       "<tr>\n",
       "  <th>Time:</th>                 <td>13:51:07</td>     <th>  Log-Likelihood:    </th> <td> -534.45</td> \n",
       "</tr>\n",
       "<tr>\n",
       "  <th>No. Observations:</th>      <td>  1131</td>      <th>  AIC:               </th> <td>   1077.</td> \n",
       "</tr>\n",
       "<tr>\n",
       "  <th>Df Residuals:</th>          <td>  1127</td>      <th>  BIC:               </th> <td>   1097.</td> \n",
       "</tr>\n",
       "<tr>\n",
       "  <th>Df Model:</th>              <td>     3</td>      <th>                     </th>     <td> </td>    \n",
       "</tr>\n",
       "<tr>\n",
       "  <th>Covariance Type:</th>      <td>nonrobust</td>    <th>                     </th>     <td> </td>    \n",
       "</tr>\n",
       "</table>\n",
       "<table class=\"simpletable\">\n",
       "<tr>\n",
       "      <td></td>         <th>coef</th>     <th>std err</th>      <th>t</th>      <th>P>|t|</th>  <th>[0.025</th>    <th>0.975]</th>  \n",
       "</tr>\n",
       "<tr>\n",
       "  <th>Intercept</th> <td>    0.6091</td> <td>    0.024</td> <td>   25.447</td> <td> 0.000</td> <td>    0.562</td> <td>    0.656</td>\n",
       "</tr>\n",
       "<tr>\n",
       "  <th>sex</th>       <td>   -0.5091</td> <td>    0.025</td> <td>  -20.602</td> <td> 0.000</td> <td>   -0.558</td> <td>   -0.461</td>\n",
       "</tr>\n",
       "<tr>\n",
       "  <th>class1</th>    <td>    0.2802</td> <td>    0.028</td> <td>    9.994</td> <td> 0.000</td> <td>    0.225</td> <td>    0.335</td>\n",
       "</tr>\n",
       "<tr>\n",
       "  <th>class2</th>    <td>    0.0844</td> <td>    0.030</td> <td>    2.822</td> <td> 0.005</td> <td>    0.026</td> <td>    0.143</td>\n",
       "</tr>\n",
       "</table>\n",
       "<table class=\"simpletable\">\n",
       "<tr>\n",
       "  <th>Omnibus:</th>       <td>64.857</td> <th>  Durbin-Watson:     </th> <td>   1.679</td>\n",
       "</tr>\n",
       "<tr>\n",
       "  <th>Prob(Omnibus):</th> <td> 0.000</td> <th>  Jarque-Bera (JB):  </th> <td>  74.910</td>\n",
       "</tr>\n",
       "<tr>\n",
       "  <th>Skew:</th>          <td> 0.626</td> <th>  Prob(JB):          </th> <td>5.41e-17</td>\n",
       "</tr>\n",
       "<tr>\n",
       "  <th>Kurtosis:</th>      <td> 3.151</td> <th>  Cond. No.          </th> <td>    4.24</td>\n",
       "</tr>\n",
       "</table>"
      ],
      "text/plain": [
       "<class 'statsmodels.iolib.summary.Summary'>\n",
       "\"\"\"\n",
       "                            OLS Regression Results                            \n",
       "==============================================================================\n",
       "Dep. Variable:               survived   R-squared:                       0.349\n",
       "Model:                            OLS   Adj. R-squared:                  0.348\n",
       "Method:                 Least Squares   F-statistic:                     201.8\n",
       "Date:                Tue, 06 Jun 2017   Prob (F-statistic):          9.59e-105\n",
       "Time:                        13:51:07   Log-Likelihood:                -534.45\n",
       "No. Observations:                1131   AIC:                             1077.\n",
       "Df Residuals:                    1127   BIC:                             1097.\n",
       "Df Model:                           3                                         \n",
       "Covariance Type:            nonrobust                                         \n",
       "==============================================================================\n",
       "                 coef    std err          t      P>|t|      [0.025      0.975]\n",
       "------------------------------------------------------------------------------\n",
       "Intercept      0.6091      0.024     25.447      0.000       0.562       0.656\n",
       "sex           -0.5091      0.025    -20.602      0.000      -0.558      -0.461\n",
       "class1         0.2802      0.028      9.994      0.000       0.225       0.335\n",
       "class2         0.0844      0.030      2.822      0.005       0.026       0.143\n",
       "==============================================================================\n",
       "Omnibus:                       64.857   Durbin-Watson:                   1.679\n",
       "Prob(Omnibus):                  0.000   Jarque-Bera (JB):               74.910\n",
       "Skew:                           0.626   Prob(JB):                     5.41e-17\n",
       "Kurtosis:                       3.151   Cond. No.                         4.24\n",
       "==============================================================================\n",
       "\n",
       "Warnings:\n",
       "[1] Standard Errors assume that the covariance matrix of the errors is correctly specified.\n",
       "\"\"\""
      ]
     },
     "execution_count": 336,
     "metadata": {},
     "output_type": "execute_result"
    }
   ],
   "source": [
    "lin_model = smf.ols(formula=\"survived ~ sex + class1 + class2\", data=data)\n",
    "lin_result = lin_model.fit()\n",
    "lin_fitted_list = [1 if f > 0.5 else 0 for f in lin_result.fittedvalues]\n",
    "lin_result.summary()"
   ]
  },
  {
   "cell_type": "markdown",
   "metadata": {},
   "source": [
    "### Сравним модели логит, пробит и линейную:\n",
    "Проверяем, все ли прогнозы трёх моделей одинаковые, и выводим первые 30 результатов"
   ]
  },
  {
   "cell_type": "code",
   "execution_count": 355,
   "metadata": {
    "ExecuteTime": {
     "end_time": "2017-06-06T11:03:50.328189Z",
     "start_time": "2017-06-06T14:03:50.277411+03:00"
    },
    "collapsed": false
   },
   "outputs": [
    {
     "name": "stdout",
     "output_type": "stream",
     "text": [
      "Models offer different results: False\n",
      "Fitted values:\n",
      "Sex\t\tClass1\t\tClass2\t\tSurvived\t\tLogit\t\tProbit\t\tLinear\n",
      "1.0\t\t0.0\t\t0.0\t\t0.0\t\t0\t\t0\t\t0\n",
      "1.0\t\t1.0\t\t0.0\t\t1.0\t\t0\t\t0\t\t0\n",
      "1.0\t\t1.0\t\t0.0\t\t1.0\t\t0\t\t0\t\t0\n",
      "1.0\t\t1.0\t\t0.0\t\t1.0\t\t0\t\t0\t\t0\n",
      "1.0\t\t0.0\t\t0.0\t\t1.0\t\t0\t\t0\t\t0\n",
      "1.0\t\t0.0\t\t0.0\t\t0.0\t\t0\t\t0\t\t0\n",
      "1.0\t\t1.0\t\t0.0\t\t0.0\t\t0\t\t0\t\t0\n",
      "0.0\t\t1.0\t\t0.0\t\t1.0\t\t1\t\t1\t\t1\n",
      "0.0\t\t1.0\t\t0.0\t\t1.0\t\t1\t\t1\t\t1\n",
      "1.0\t\t0.0\t\t0.0\t\t0.0\t\t0\t\t0\t\t0\n",
      "1.0\t\t1.0\t\t0.0\t\t0.0\t\t0\t\t0\t\t0\n",
      "1.0\t\t0.0\t\t0.0\t\t1.0\t\t0\t\t0\t\t0\n",
      "1.0\t\t0.0\t\t0.0\t\t0.0\t\t0\t\t0\t\t0\n",
      "0.0\t\t1.0\t\t0.0\t\t1.0\t\t1\t\t1\t\t1\n",
      "1.0\t\t0.0\t\t0.0\t\t0.0\t\t0\t\t0\t\t0\n",
      "1.0\t\t1.0\t\t0.0\t\t0.0\t\t0\t\t0\t\t0\n",
      "1.0\t\t0.0\t\t0.0\t\t0.0\t\t0\t\t0\t\t0\n",
      "1.0\t\t0.0\t\t0.0\t\t0.0\t\t0\t\t0\t\t0\n",
      "1.0\t\t0.0\t\t1.0\t\t0.0\t\t0\t\t0\t\t0\n",
      "1.0\t\t0.0\t\t1.0\t\t0.0\t\t0\t\t0\t\t0\n",
      "0.0\t\t1.0\t\t0.0\t\t1.0\t\t1\t\t1\t\t1\n",
      "0.0\t\t0.0\t\t1.0\t\t1.0\t\t1\t\t1\t\t1\n",
      "0.0\t\t1.0\t\t0.0\t\t1.0\t\t1\t\t1\t\t1\n",
      "1.0\t\t1.0\t\t0.0\t\t0.0\t\t0\t\t0\t\t0\n",
      "1.0\t\t0.0\t\t0.0\t\t0.0\t\t0\t\t0\t\t0\n",
      "0.0\t\t1.0\t\t0.0\t\t1.0\t\t1\t\t1\t\t1\n",
      "1.0\t\t0.0\t\t1.0\t\t0.0\t\t0\t\t0\t\t0\n",
      "1.0\t\t0.0\t\t0.0\t\t0.0\t\t0\t\t0\t\t0\n",
      "0.0\t\t0.0\t\t1.0\t\t1.0\t\t1\t\t1\t\t1\n",
      "1.0\t\t1.0\t\t0.0\t\t0.0\t\t0\t\t0\t\t0\n"
     ]
    }
   ],
   "source": [
    "\n",
    "survived_list = list(data['survived'])\n",
    "sex_list = list(data['sex'])\n",
    "class1_list = list(data['class1'])\n",
    "class2_list = list(data['class2'])\n",
    "\n",
    "different = False\n",
    "for i in range(100):\n",
    "    if(0 < logit_fitted_list[i] + probit_fitted_list[i] + lin_fitted_list[i] < 3):\n",
    "        different = True\n",
    "\n",
    "print(\"Models offer different results:\",different)\n",
    "print(\"Fitted values:\")\n",
    "print(\"Sex\\t\\tClass1\\t\\tClass2\\t\\tSurvived\\t\\tLogit\\t\\tProbit\\t\\tLinear\")\n",
    "for i in range(30):\n",
    "    print(sex_list[i], class1_list[i], class2_list[i],\n",
    "          survived_list[i], logit_fitted_list[i], probit_fitted_list[i], lin_fitted_list[i], sep=\"\\t\\t\")"
   ]
  },
  {
   "cell_type": "markdown",
   "metadata": {
    "ExecuteTime": {
     "end_time": "2017-06-06T10:53:19.915762Z",
     "start_time": "2017-06-06T13:53:19.906239+03:00"
    }
   },
   "source": [
    "Итак, расхождений между прогнозами нет вообще. Проверим, сколько прогнозов неверны:"
   ]
  },
  {
   "cell_type": "code",
   "execution_count": 353,
   "metadata": {
    "ExecuteTime": {
     "end_time": "2017-06-06T10:59:41.297744Z",
     "start_time": "2017-06-06T13:59:41.289808+03:00"
    },
    "collapsed": false
   },
   "outputs": [
    {
     "name": "stdout",
     "output_type": "stream",
     "text": [
      "238 / 1131\n"
     ]
    }
   ],
   "source": [
    "print(str(int(rss(logit_fitted_list,survived_list))) + \" / \" + str(n))"
   ]
  },
  {
   "cell_type": "markdown",
   "metadata": {},
   "source": [
    "Итак, из 1131 элемента выборки результаты 238 предсказаны неверно. Хороший результат."
   ]
  },
  {
   "cell_type": "markdown",
   "metadata": {
    "ExecuteTime": {
     "end_time": "2017-06-05T22:33:36.087171Z",
     "start_time": "2017-06-06T01:33:35.633667+03:00"
    },
    "collapsed": false,
    "deletable": true,
    "editable": true
   },
   "source": [
    "# Часть II\n",
    "### Оценим расширенную логит-регрессию, включающую вклад пола в шансы выживания в зависимости от класса:\n",
    "$\\frac{P(survived=1)}{P(survived=0)}=exp(\\beta_1 + \\beta2\\cdot sex + \\beta_3\\cdot class1+\\beta_4\\cdot class2 + \n",
    "\\beta_5 \\cdot sex \\cdot class1 + \\beta_6 \\cdot sex \\cdot class2)$"
   ]
  },
  {
   "cell_type": "code",
   "execution_count": 366,
   "metadata": {
    "ExecuteTime": {
     "end_time": "2017-06-06T11:35:08.599312Z",
     "start_time": "2017-06-06T14:35:08.525941+03:00"
    },
    "collapsed": false,
    "deletable": true,
    "editable": true
   },
   "outputs": [
    {
     "name": "stdout",
     "output_type": "stream",
     "text": [
      "Optimization terminated successfully.\n",
      "         Current function value: 0.444751\n",
      "         Iterations 7\n"
     ]
    },
    {
     "data": {
      "text/html": [
       "<table class=\"simpletable\">\n",
       "<caption>Logit Regression Results</caption>\n",
       "<tr>\n",
       "  <th>Dep. Variable:</th>     <td>survived</td>     <th>  No. Observations:  </th>   <td>  1131</td>  \n",
       "</tr>\n",
       "<tr>\n",
       "  <th>Model:</th>               <td>Logit</td>      <th>  Df Residuals:      </th>   <td>  1125</td>  \n",
       "</tr>\n",
       "<tr>\n",
       "  <th>Method:</th>               <td>MLE</td>       <th>  Df Model:          </th>   <td>     5</td>  \n",
       "</tr>\n",
       "<tr>\n",
       "  <th>Date:</th>          <td>Tue, 06 Jun 2017</td> <th>  Pseudo R-squ.:     </th>   <td>0.3219</td>  \n",
       "</tr>\n",
       "<tr>\n",
       "  <th>Time:</th>              <td>14:35:08</td>     <th>  Log-Likelihood:    </th>  <td> -503.01</td> \n",
       "</tr>\n",
       "<tr>\n",
       "  <th>converged:</th>           <td>True</td>       <th>  LL-Null:           </th>  <td> -741.76</td> \n",
       "</tr>\n",
       "<tr>\n",
       "  <th> </th>                      <td> </td>        <th>  LLR p-value:       </th> <td>5.776e-101</td>\n",
       "</tr>\n",
       "</table>\n",
       "<table class=\"simpletable\">\n",
       "<tr>\n",
       "       <td></td>         <th>coef</th>     <th>std err</th>      <th>z</th>      <th>P>|z|</th>  <th>[0.025</th>    <th>0.975]</th>  \n",
       "</tr>\n",
       "<tr>\n",
       "  <th>Intercept</th>  <td>   -0.1579</td> <td>    0.156</td> <td>   -1.011</td> <td> 0.312</td> <td>   -0.464</td> <td>    0.148</td>\n",
       "</tr>\n",
       "<tr>\n",
       "  <th>sex</th>        <td>   -1.5280</td> <td>    0.205</td> <td>   -7.471</td> <td> 0.000</td> <td>   -1.929</td> <td>   -1.127</td>\n",
       "</tr>\n",
       "<tr>\n",
       "  <th>class1</th>     <td>    3.6391</td> <td>    0.531</td> <td>    6.852</td> <td> 0.000</td> <td>    2.598</td> <td>    4.680</td>\n",
       "</tr>\n",
       "<tr>\n",
       "  <th>class2</th>     <td>    1.8970</td> <td>    0.339</td> <td>    5.598</td> <td> 0.000</td> <td>    1.233</td> <td>    2.561</td>\n",
       "</tr>\n",
       "<tr>\n",
       "  <th>sex:class1</th> <td>   -2.7417</td> <td>    0.573</td> <td>   -4.783</td> <td> 0.000</td> <td>   -3.865</td> <td>   -1.618</td>\n",
       "</tr>\n",
       "<tr>\n",
       "  <th>sex:class2</th> <td>   -2.4848</td> <td>    0.459</td> <td>   -5.409</td> <td> 0.000</td> <td>   -3.385</td> <td>   -1.584</td>\n",
       "</tr>\n",
       "</table>"
      ],
      "text/plain": [
       "<class 'statsmodels.iolib.summary.Summary'>\n",
       "\"\"\"\n",
       "                           Logit Regression Results                           \n",
       "==============================================================================\n",
       "Dep. Variable:               survived   No. Observations:                 1131\n",
       "Model:                          Logit   Df Residuals:                     1125\n",
       "Method:                           MLE   Df Model:                            5\n",
       "Date:                Tue, 06 Jun 2017   Pseudo R-squ.:                  0.3219\n",
       "Time:                        14:35:08   Log-Likelihood:                -503.01\n",
       "converged:                       True   LL-Null:                       -741.76\n",
       "                                        LLR p-value:                5.776e-101\n",
       "==============================================================================\n",
       "                 coef    std err          z      P>|z|      [0.025      0.975]\n",
       "------------------------------------------------------------------------------\n",
       "Intercept     -0.1579      0.156     -1.011      0.312      -0.464       0.148\n",
       "sex           -1.5280      0.205     -7.471      0.000      -1.929      -1.127\n",
       "class1         3.6391      0.531      6.852      0.000       2.598       4.680\n",
       "class2         1.8970      0.339      5.598      0.000       1.233       2.561\n",
       "sex:class1    -2.7417      0.573     -4.783      0.000      -3.865      -1.618\n",
       "sex:class2    -2.4848      0.459     -5.409      0.000      -3.385      -1.584\n",
       "==============================================================================\n",
       "\"\"\""
      ]
     },
     "execution_count": 366,
     "metadata": {},
     "output_type": "execute_result"
    }
   ],
   "source": [
    "logit_ext_model = smf.logit(formula=\"survived ~ sex + class1 + class2 + sex * class1 + sex * class2\", data=data)\n",
    "logit_ext_result = logit_ext_model.fit()\n",
    "logit_ext_fitted_list = [1 if f > 0 else 0 for f in logit_ext_result.fittedvalues]\n",
    "logit_ext_result.summary()"
   ]
  },
  {
   "cell_type": "code",
   "execution_count": 359,
   "metadata": {
    "ExecuteTime": {
     "end_time": "2017-06-06T11:15:42.919874Z",
     "start_time": "2017-06-06T14:15:42.912040+03:00"
    },
    "collapsed": false,
    "deletable": true,
    "editable": true
   },
   "outputs": [
    {
     "data": {
      "text/plain": [
       "225.0"
      ]
     },
     "execution_count": 359,
     "metadata": {},
     "output_type": "execute_result"
    }
   ],
   "source": [
    "rss(logit_ext_fitted_list, survived_list)"
   ]
  },
  {
   "cell_type": "markdown",
   "metadata": {},
   "source": [
    "Такая модель предсказывает чуть лучше: 225 неверных прогнозов из 1131.\n",
    "\n",
    "### Проверим гипотезу $H_0:\\beta_5 = \\beta_6 = 0$\n",
    "т.е. $Q\\cdot\\beta = r$, где:  \n",
    "$Q = \\begin{pmatrix}\n",
    " 0&0&0&0&0&1\\\\ \n",
    " 0&0&0&0&1&-1\n",
    "\\end{pmatrix} \\qquad\n",
    "r = \\begin{pmatrix}\n",
    "0\\\\\n",
    "0\n",
    "\\end{pmatrix}$"
   ]
  },
  {
   "cell_type": "code",
   "execution_count": 363,
   "metadata": {
    "ExecuteTime": {
     "end_time": "2017-06-06T11:30:58.484034Z",
     "start_time": "2017-06-06T14:30:58.479181+03:00"
    },
    "collapsed": false
   },
   "outputs": [],
   "source": [
    "Q = np.array([[0,0,0,0,0,1],[0,0,0,0,1,-1]])\n",
    "r = np.array([[0],[0]])"
   ]
  },
  {
   "cell_type": "markdown",
   "metadata": {},
   "source": [
    "### с помощью теста Вальда:\n",
    "$W = (Q \\cdot \\widehat{\\beta} - r)^T \\cdot (Q \\cdot \\widehat{V}(\\widehat{\\beta}) \\cdot Q^T)^{-1} \\cdot (Q \\cdot \\widehat{\\beta} - r) \\sim \\chi^2_q$, где:  \n",
    "$q$ — количество ограничений (количество строк матрицы Q)  \n",
    "$\\widehat{V}(\\widehat{\\beta})$ — оценка ковариационной матрицы коэффициентов модели регрессии"
   ]
  },
  {
   "cell_type": "code",
   "execution_count": 380,
   "metadata": {
    "ExecuteTime": {
     "end_time": "2017-06-06T11:50:43.178564Z",
     "start_time": "2017-06-06T14:50:43.153520+03:00"
    },
    "collapsed": false
   },
   "outputs": [
    {
     "name": "stdout",
     "output_type": "stream",
     "text": [
      "W = 45.0498955004\n",
      "W_crit = 5.99146454711\n"
     ]
    }
   ],
   "source": [
    "#Q = np.array([[0,0,0,0,0,1],[0,0,0,0,1,-1]])\n",
    "#r = np.array([[0],[0]])\n",
    "#logit_ext_result.wald_test(r_matrix=(Q,r)\n",
    "hyp = '(sex:class1 = 0), (sex:class2 = 0)'\n",
    "W = logit_ext_result.wald_test(hyp).statistic[0][0]\n",
    "W_crit = st.chi2.ppf(0.95, 2)\n",
    "print(\"W =\",W)\n",
    "print(\"W_crit =\", W_crit)"
   ]
  },
  {
   "cell_type": "markdown",
   "metadata": {
    "ExecuteTime": {
     "end_time": "2017-06-06T11:35:57.951059Z",
     "start_time": "2017-06-06T14:35:57.941595+03:00"
    }
   },
   "source": [
    "$W > W_{crit}$, значит, отвергаем нулевую гипотезу."
   ]
  },
  {
   "cell_type": "markdown",
   "metadata": {},
   "source": [
    "### c помощью отношения правдоподобия:\n",
    "$LR = -2\\log(\\frac{L\\:|\\: H_0}{L\\:|\\:H_A}) \\sim \\chi^2_k$, где $L$ — значение функции правдоподобия модели  "
   ]
  },
  {
   "cell_type": "code",
   "execution_count": 386,
   "metadata": {
    "ExecuteTime": {
     "end_time": "2017-06-06T12:11:05.463180Z",
     "start_time": "2017-06-06T15:11:05.452894+03:00"
    },
    "collapsed": false
   },
   "outputs": [
    {
     "name": "stdout",
     "output_type": "stream",
     "text": [
      "LR = 54.8275653611\n",
      "LR_crit = 9.48772903678\n"
     ]
    }
   ],
   "source": [
    "LR_2 = -2 * (logit_result.llf - logit_ext_result.llf)\n",
    "LR_2_crit = st.chi2.ppf(0.95, k)\n",
    "print(\"LR =\",LR_2)\n",
    "print(\"LR_crit =\", LR_crit)\n"
   ]
  },
  {
   "cell_type": "markdown",
   "metadata": {
    "ExecuteTime": {
     "end_time": "2017-06-06T12:11:49.656491Z",
     "start_time": "2017-06-06T15:11:49.648444+03:00"
    }
   },
   "source": [
    "$LR > LR_{crit}$, значит, отвергаем нулевую гипотезу.  \n",
    "Т.е. можно предполагать, что, действительно, роль пола связана с классом каюты.  \n",
    "###Чтобы сравнить модели, переберём все возможные сочетания класса и пола:"
   ]
  },
  {
   "cell_type": "code",
   "execution_count": 407,
   "metadata": {
    "ExecuteTime": {
     "end_time": "2017-06-06T12:46:24.460155Z",
     "start_time": "2017-06-06T15:46:24.419481+03:00"
    },
    "collapsed": false
   },
   "outputs": [
    {
     "name": "stdout",
     "output_type": "stream",
     "text": [
      "Predictions:\n",
      "Sex\t\tClass1\t\tClass2\t\tLogit pred.\tExt. logit pred.\n",
      "0\t\t1\t\t0\t\t0.886893028104\t\t0.970149253731\n",
      "0\t\t0\t\t1\t\t0.720305567695\t\t0.850574712644\n",
      "0\t\t0\t\t0\t\t0.596907574816\t\t0.460606060606\n",
      "1\t\t1\t\t0\t\t0.382227088963\t\t0.3125\n",
      "1\t\t0\t\t1\t\t0.168889437404\t\t0.0933333333333\n",
      "1\t\t0\t\t0\t\t0.104621264725\t\t0.15632183908\n"
     ]
    }
   ],
   "source": [
    "sex = [0, 0, 0, 1, 1, 1]\n",
    "class1 = [1, 0, 0, 1, 0, 0]\n",
    "class2 = [0, 1, 0, 0, 1, 0]\n",
    "df = pd.DataFrame({'sex': sex, 'class1': class1, 'class2': class2})\n",
    "logit_pred = logit_result.predict(df)\n",
    "#logit_pred = [1 if f > 0.5 else 0 for f in logit_pred]\n",
    "logit_ext_pred = logit_ext_result.predict(df)\n",
    "#logit_ext_pred = [1 if f > 0.5 else 0 for f in logit_ext_pred]\n",
    "\n",
    "print(\"Predictions:\")\n",
    "print(\"Sex\\t\\tClass1\\t\\tClass2\\t\\tLogit pred.\\tExt. logit pred.\")\n",
    "for i in range(len(sex)):\n",
    "    print(sex[i], class1[i], class2[i], logit_pred[i],\n",
    "          logit_ext_pred[i], sep=\"\\t\\t\")"
   ]
  },
  {
   "cell_type": "markdown",
   "metadata": {
    "ExecuteTime": {
     "end_time": "2017-06-06T12:36:42.058177Z",
     "start_time": "2017-06-06T15:36:42.033459+03:00"
    }
   },
   "source": [
    "Итак, мы наблюдаем, что основная спецификация показывает мало шансов на спасение у мужчин, но высокие шансы на спасение у женщин. Расширенная же спецификация говорит о том, что у женщин 3 класса тоже немного шансов выжить (около 46% женщин третьего класса спасаются)."
   ]
  },
  {
   "cell_type": "code",
   "execution_count": null,
   "metadata": {
    "collapsed": true
   },
   "outputs": [],
   "source": []
  }
 ],
 "metadata": {
  "kernelspec": {
   "display_name": "Python 3",
   "language": "python",
   "name": "python3"
  },
  "language_info": {
   "codemirror_mode": {
    "name": "ipython",
    "version": 3
   },
   "file_extension": ".py",
   "mimetype": "text/x-python",
   "name": "python",
   "nbconvert_exporter": "python",
   "pygments_lexer": "ipython3",
   "version": "3.6.1"
  }
 },
 "nbformat": 4,
 "nbformat_minor": 2
}
